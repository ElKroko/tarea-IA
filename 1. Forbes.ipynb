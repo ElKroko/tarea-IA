{
  "cells": [
    {
      "cell_type": "markdown",
      "metadata": {
        "id": "tMNOVF3i4wLb"
      },
      "source": [
        "# 0. Librerias"
      ]
    },
    {
      "cell_type": "code",
      "execution_count": 2,
      "metadata": {
        "id": "anFAfoVqSjs-"
      },
      "outputs": [
        {
          "name": "stderr",
          "output_type": "stream",
          "text": [
            "c:\\Users\\alanz\\miniconda3\\envs\\DataScience\\Lib\\site-packages\\numpy\\_distributor_init.py:30: UserWarning: loaded more than 1 DLL from .libs:\n",
            "c:\\Users\\alanz\\miniconda3\\envs\\DataScience\\Lib\\site-packages\\numpy\\.libs\\libopenblas.FB5AE2TYXYH2IJRDKGDGQ3XBKLKTF43H.gfortran-win_amd64.dll\n",
            "c:\\Users\\alanz\\miniconda3\\envs\\DataScience\\Lib\\site-packages\\numpy\\.libs\\libopenblas64__v0.3.21-gcc_10_3_0.dll\n",
            "  warnings.warn(\"loaded more than 1 DLL from .libs:\"\n"
          ]
        }
      ],
      "source": [
        "import pandas as pd\n",
        "import numpy as np\n",
        "\n",
        "import matplotlib.pyplot as plt\n",
        "import plotly.express as px"
      ]
    },
    {
      "cell_type": "markdown",
      "metadata": {
        "id": "7-bXqgtmfmy9"
      },
      "source": [
        "# 1. Carga de datos"
      ]
    },
    {
      "cell_type": "code",
      "execution_count": 3,
      "metadata": {
        "id": "TaT_t8U5vYcW"
      },
      "outputs": [],
      "source": [
        "df_forbes = pd.read_csv(\"content/data/forbes/Forbes Richest Atheletes (Forbes Richest Athletes 1990-2020).csv\")"
      ]
    },
    {
      "cell_type": "code",
      "execution_count": 4,
      "metadata": {
        "colab": {
          "base_uri": "https://localhost:8080/",
          "height": 424
        },
        "id": "XvN789p6vq0-",
        "outputId": "ca7145fb-d91a-4db3-955d-5b522f377b5b"
      },
      "outputs": [
        {
          "data": {
            "text/html": [
              "<div>\n",
              "<style scoped>\n",
              "    .dataframe tbody tr th:only-of-type {\n",
              "        vertical-align: middle;\n",
              "    }\n",
              "\n",
              "    .dataframe tbody tr th {\n",
              "        vertical-align: top;\n",
              "    }\n",
              "\n",
              "    .dataframe thead th {\n",
              "        text-align: right;\n",
              "    }\n",
              "</style>\n",
              "<table border=\"1\" class=\"dataframe\">\n",
              "  <thead>\n",
              "    <tr style=\"text-align: right;\">\n",
              "      <th></th>\n",
              "      <th>S.NO</th>\n",
              "      <th>Name</th>\n",
              "      <th>Nationality</th>\n",
              "      <th>Current Rank</th>\n",
              "      <th>Previous Year Rank</th>\n",
              "      <th>Sport</th>\n",
              "      <th>Year</th>\n",
              "      <th>earnings ($ million)</th>\n",
              "    </tr>\n",
              "  </thead>\n",
              "  <tbody>\n",
              "    <tr>\n",
              "      <th>0</th>\n",
              "      <td>1</td>\n",
              "      <td>Mike Tyson</td>\n",
              "      <td>USA</td>\n",
              "      <td>1</td>\n",
              "      <td>NaN</td>\n",
              "      <td>boxing</td>\n",
              "      <td>1990</td>\n",
              "      <td>28.6</td>\n",
              "    </tr>\n",
              "    <tr>\n",
              "      <th>1</th>\n",
              "      <td>2</td>\n",
              "      <td>Buster Douglas</td>\n",
              "      <td>USA</td>\n",
              "      <td>2</td>\n",
              "      <td>NaN</td>\n",
              "      <td>boxing</td>\n",
              "      <td>1990</td>\n",
              "      <td>26.0</td>\n",
              "    </tr>\n",
              "    <tr>\n",
              "      <th>2</th>\n",
              "      <td>3</td>\n",
              "      <td>Sugar Ray Leonard</td>\n",
              "      <td>USA</td>\n",
              "      <td>3</td>\n",
              "      <td>NaN</td>\n",
              "      <td>boxing</td>\n",
              "      <td>1990</td>\n",
              "      <td>13.0</td>\n",
              "    </tr>\n",
              "    <tr>\n",
              "      <th>3</th>\n",
              "      <td>4</td>\n",
              "      <td>Ayrton Senna</td>\n",
              "      <td>Brazil</td>\n",
              "      <td>4</td>\n",
              "      <td>NaN</td>\n",
              "      <td>auto racing</td>\n",
              "      <td>1990</td>\n",
              "      <td>10.0</td>\n",
              "    </tr>\n",
              "    <tr>\n",
              "      <th>4</th>\n",
              "      <td>5</td>\n",
              "      <td>Alain Prost</td>\n",
              "      <td>France</td>\n",
              "      <td>5</td>\n",
              "      <td>NaN</td>\n",
              "      <td>auto racing</td>\n",
              "      <td>1990</td>\n",
              "      <td>9.0</td>\n",
              "    </tr>\n",
              "    <tr>\n",
              "      <th>...</th>\n",
              "      <td>...</td>\n",
              "      <td>...</td>\n",
              "      <td>...</td>\n",
              "      <td>...</td>\n",
              "      <td>...</td>\n",
              "      <td>...</td>\n",
              "      <td>...</td>\n",
              "      <td>...</td>\n",
              "    </tr>\n",
              "    <tr>\n",
              "      <th>296</th>\n",
              "      <td>297</td>\n",
              "      <td>Stephen Curry</td>\n",
              "      <td>USA</td>\n",
              "      <td>6</td>\n",
              "      <td>9</td>\n",
              "      <td>Basketball</td>\n",
              "      <td>2020</td>\n",
              "      <td>74.4</td>\n",
              "    </tr>\n",
              "    <tr>\n",
              "      <th>297</th>\n",
              "      <td>298</td>\n",
              "      <td>Kevin Durant</td>\n",
              "      <td>USA</td>\n",
              "      <td>7</td>\n",
              "      <td>10</td>\n",
              "      <td>Basketball</td>\n",
              "      <td>2020</td>\n",
              "      <td>63.9</td>\n",
              "    </tr>\n",
              "    <tr>\n",
              "      <th>298</th>\n",
              "      <td>299</td>\n",
              "      <td>Tiger Woods</td>\n",
              "      <td>USA</td>\n",
              "      <td>8</td>\n",
              "      <td>11</td>\n",
              "      <td>Golf</td>\n",
              "      <td>2020</td>\n",
              "      <td>62.3</td>\n",
              "    </tr>\n",
              "    <tr>\n",
              "      <th>299</th>\n",
              "      <td>300</td>\n",
              "      <td>Kirk Cousins</td>\n",
              "      <td>USA</td>\n",
              "      <td>9</td>\n",
              "      <td>&gt;100</td>\n",
              "      <td>American Football</td>\n",
              "      <td>2020</td>\n",
              "      <td>60.5</td>\n",
              "    </tr>\n",
              "    <tr>\n",
              "      <th>300</th>\n",
              "      <td>301</td>\n",
              "      <td>Carson Wentz</td>\n",
              "      <td>USA</td>\n",
              "      <td>10</td>\n",
              "      <td>&gt;100</td>\n",
              "      <td>American Football</td>\n",
              "      <td>2020</td>\n",
              "      <td>59.1</td>\n",
              "    </tr>\n",
              "  </tbody>\n",
              "</table>\n",
              "<p>301 rows × 8 columns</p>\n",
              "</div>"
            ],
            "text/plain": [
              "     S.NO               Name Nationality  Current Rank Previous Year Rank  \\\n",
              "0       1         Mike Tyson         USA             1                NaN   \n",
              "1       2     Buster Douglas         USA             2                NaN   \n",
              "2       3  Sugar Ray Leonard         USA             3                NaN   \n",
              "3       4       Ayrton Senna      Brazil             4                NaN   \n",
              "4       5        Alain Prost      France             5                NaN   \n",
              "..    ...                ...         ...           ...                ...   \n",
              "296   297      Stephen Curry         USA             6                  9   \n",
              "297   298       Kevin Durant         USA             7                 10   \n",
              "298   299        Tiger Woods         USA             8                 11   \n",
              "299   300       Kirk Cousins         USA             9               >100   \n",
              "300   301       Carson Wentz         USA            10               >100   \n",
              "\n",
              "                 Sport  Year  earnings ($ million)  \n",
              "0               boxing  1990                  28.6  \n",
              "1               boxing  1990                  26.0  \n",
              "2               boxing  1990                  13.0  \n",
              "3          auto racing  1990                  10.0  \n",
              "4          auto racing  1990                   9.0  \n",
              "..                 ...   ...                   ...  \n",
              "296         Basketball  2020                  74.4  \n",
              "297         Basketball  2020                  63.9  \n",
              "298               Golf  2020                  62.3  \n",
              "299  American Football  2020                  60.5  \n",
              "300  American Football  2020                  59.1  \n",
              "\n",
              "[301 rows x 8 columns]"
            ]
          },
          "execution_count": 4,
          "metadata": {},
          "output_type": "execute_result"
        }
      ],
      "source": [
        "df_forbes"
      ]
    },
    {
      "cell_type": "markdown",
      "metadata": {
        "id": "iMfrQVKRBolR"
      },
      "source": [
        "# 2. Identifiación de tipos de datos de cada variables"
      ]
    },
    {
      "cell_type": "markdown",
      "metadata": {
        "id": "D7LpshgeBtsV"
      },
      "source": [
        "Tipos de variables en el dataset:\n",
        "\n",
        "*   **S.NO** : Numerica discreta\n",
        "*   **Name** : Categorica nominal\n",
        "*   **Nationality** : Categorica nominal\n",
        "*   **Current Rank** : Numerica discreta\n",
        "*   **Previous Year Rank** : Numerica discreta\n",
        "*   **Sport** : Categorica nominal\n",
        "*   **Year** : Numerica discreta\n",
        "*   **earnings** (*$ million*) : Numerica continua"
      ]
    },
    {
      "cell_type": "markdown",
      "metadata": {
        "id": "2MK_v283gE5a"
      },
      "source": [
        "# 3. Estadisticas para variables"
      ]
    },
    {
      "cell_type": "markdown",
      "metadata": {
        "id": "SRgvTuXdgWt0"
      },
      "source": [
        "## Variables tipo numericas"
      ]
    },
    {
      "cell_type": "code",
      "execution_count": 5,
      "metadata": {
        "colab": {
          "base_uri": "https://localhost:8080/",
          "height": 300
        },
        "id": "mIRzCKt6YeH1",
        "outputId": "fa25d22a-a6a7-45a1-9553-85fa8ad06434"
      },
      "outputs": [
        {
          "data": {
            "text/html": [
              "<div>\n",
              "<style scoped>\n",
              "    .dataframe tbody tr th:only-of-type {\n",
              "        vertical-align: middle;\n",
              "    }\n",
              "\n",
              "    .dataframe tbody tr th {\n",
              "        vertical-align: top;\n",
              "    }\n",
              "\n",
              "    .dataframe thead th {\n",
              "        text-align: right;\n",
              "    }\n",
              "</style>\n",
              "<table border=\"1\" class=\"dataframe\">\n",
              "  <thead>\n",
              "    <tr style=\"text-align: right;\">\n",
              "      <th></th>\n",
              "      <th>S.NO</th>\n",
              "      <th>Current Rank</th>\n",
              "      <th>Year</th>\n",
              "      <th>earnings ($ million)</th>\n",
              "    </tr>\n",
              "  </thead>\n",
              "  <tbody>\n",
              "    <tr>\n",
              "      <th>count</th>\n",
              "      <td>301.000000</td>\n",
              "      <td>301.000000</td>\n",
              "      <td>301.000000</td>\n",
              "      <td>301.000000</td>\n",
              "    </tr>\n",
              "    <tr>\n",
              "      <th>mean</th>\n",
              "      <td>151.000000</td>\n",
              "      <td>5.448505</td>\n",
              "      <td>2005.122924</td>\n",
              "      <td>45.516279</td>\n",
              "    </tr>\n",
              "    <tr>\n",
              "      <th>std</th>\n",
              "      <td>87.035433</td>\n",
              "      <td>2.850995</td>\n",
              "      <td>9.063563</td>\n",
              "      <td>33.525337</td>\n",
              "    </tr>\n",
              "    <tr>\n",
              "      <th>min</th>\n",
              "      <td>1.000000</td>\n",
              "      <td>1.000000</td>\n",
              "      <td>1990.000000</td>\n",
              "      <td>8.100000</td>\n",
              "    </tr>\n",
              "    <tr>\n",
              "      <th>25%</th>\n",
              "      <td>76.000000</td>\n",
              "      <td>3.000000</td>\n",
              "      <td>1997.000000</td>\n",
              "      <td>24.000000</td>\n",
              "    </tr>\n",
              "    <tr>\n",
              "      <th>50%</th>\n",
              "      <td>151.000000</td>\n",
              "      <td>5.000000</td>\n",
              "      <td>2005.000000</td>\n",
              "      <td>39.000000</td>\n",
              "    </tr>\n",
              "    <tr>\n",
              "      <th>75%</th>\n",
              "      <td>226.000000</td>\n",
              "      <td>8.000000</td>\n",
              "      <td>2013.000000</td>\n",
              "      <td>59.400000</td>\n",
              "    </tr>\n",
              "    <tr>\n",
              "      <th>max</th>\n",
              "      <td>301.000000</td>\n",
              "      <td>10.000000</td>\n",
              "      <td>2020.000000</td>\n",
              "      <td>300.000000</td>\n",
              "    </tr>\n",
              "  </tbody>\n",
              "</table>\n",
              "</div>"
            ],
            "text/plain": [
              "             S.NO  Current Rank         Year  earnings ($ million)\n",
              "count  301.000000    301.000000   301.000000            301.000000\n",
              "mean   151.000000      5.448505  2005.122924             45.516279\n",
              "std     87.035433      2.850995     9.063563             33.525337\n",
              "min      1.000000      1.000000  1990.000000              8.100000\n",
              "25%     76.000000      3.000000  1997.000000             24.000000\n",
              "50%    151.000000      5.000000  2005.000000             39.000000\n",
              "75%    226.000000      8.000000  2013.000000             59.400000\n",
              "max    301.000000     10.000000  2020.000000            300.000000"
            ]
          },
          "execution_count": 5,
          "metadata": {},
          "output_type": "execute_result"
        }
      ],
      "source": [
        "df_forbes.describe()"
      ]
    },
    {
      "cell_type": "markdown",
      "metadata": {
        "id": "cXsD_d3XbQVk"
      },
      "source": [
        "En el dataFrame mostrado arriba, las abreviaciones de los titulos de las filas significan:\n",
        "- **count**: Cantidad de registros\n",
        "- **mean**: Media aritmetica\n",
        "- **std**: Desviación estandar\n",
        "- **min**: Menor valor que toma la variable\n",
        "- **25%**: Primer cuartil\n",
        "- **50%**: Mediana/Segundo cuartil\n",
        "- **75%**: Tercer cuartil\n",
        "- **max**: Maximo valor que toma la variable"
      ]
    },
    {
      "cell_type": "markdown",
      "metadata": {
        "id": "PQalaivegaNW"
      },
      "source": [
        "## Variables tipo categoricas"
      ]
    },
    {
      "cell_type": "markdown",
      "metadata": {
        "id": "JMHzWGw4s6xr"
      },
      "source": [
        "A continuacion se presenta el estudio de las variables categoricas, en donde se encuentran las cifras de frecuencia absoluta y relativa de cada variable, haciendo enfasis en la moda en la variable en estudio."
      ]
    },
    {
      "cell_type": "markdown",
      "metadata": {
        "id": "xTzZxSC2tNlh"
      },
      "source": [
        "###a) Name"
      ]
    },
    {
      "cell_type": "code",
      "execution_count": 6,
      "metadata": {
        "colab": {
          "base_uri": "https://localhost:8080/"
        },
        "id": "tZttw9hKhZ3C",
        "outputId": "e00d95ab-b407-4341-cd91-24f5f1f6b27b"
      },
      "outputs": [
        {
          "name": "stdout",
          "output_type": "stream",
          "text": [
            "Variable Name:\n",
            "                    Frecuencia Absoluta  Frecuencia Relativa\n",
            "Name                                                        \n",
            "Tiger Woods                          19             0.063123\n",
            "Michael Jordan                       19             0.063123\n",
            "Kobe Bryant                          14             0.046512\n",
            "LeBron James                         13             0.043189\n",
            "Michael Schumacher                   13             0.043189\n",
            "...                                 ...                  ...\n",
            "Tom Brady                             1             0.003322\n",
            "Michael Moorer                        1             0.003322\n",
            "Dale Earnhardt Jr.                    1             0.003322\n",
            "Greg Norman                           1             0.003322\n",
            "Carson Wentz                          1             0.003322\n",
            "\n",
            "[82 rows x 2 columns]\n"
          ]
        }
      ],
      "source": [
        "print(\"Variable Name:\")\n",
        "variableStats= df_forbes[\"Name\"].value_counts().to_frame(name='Frecuencia Absoluta')\n",
        "variableStats['Frecuencia Relativa']= df_forbes[\"Name\"].value_counts(normalize=True)\n",
        "print(variableStats)"
      ]
    },
    {
      "cell_type": "markdown",
      "metadata": {
        "id": "-Nj0ZMbrtQ5Y"
      },
      "source": [
        "Se puede notar que los atletas mas repetidos (moda) son Tiger Woods y Michael Jordan, reforzandolo con:"
      ]
    },
    {
      "cell_type": "code",
      "execution_count": 7,
      "metadata": {
        "colab": {
          "base_uri": "https://localhost:8080/"
        },
        "id": "txWL0gXftf65",
        "outputId": "c48eeb6a-90b6-48d5-a4a3-fb84019edbc2"
      },
      "outputs": [
        {
          "name": "stdout",
          "output_type": "stream",
          "text": [
            "Moda:\n",
            "0    Michael Jordan\n",
            "1       Tiger Woods\n",
            "Name: Name, dtype: object\n"
          ]
        }
      ],
      "source": [
        "print(\"Moda:\\n%s\" % df_forbes[\"Name\"].mode())"
      ]
    },
    {
      "cell_type": "markdown",
      "metadata": {
        "id": "WqrLng9muINM"
      },
      "source": [
        "###b) Nationality"
      ]
    },
    {
      "cell_type": "code",
      "execution_count": 8,
      "metadata": {
        "colab": {
          "base_uri": "https://localhost:8080/"
        },
        "id": "15nx7k4LuQ80",
        "outputId": "bcc5b180-7f7f-4804-9012-827c6c1c1e1a"
      },
      "outputs": [
        {
          "name": "stdout",
          "output_type": "stream",
          "text": [
            "Variable Nationality:\n",
            "                  Frecuencia Absoluta  Frecuencia Relativa\n",
            "Nationality                                               \n",
            "USA                               206             0.684385\n",
            "UK                                 13             0.043189\n",
            "Germany                            13             0.043189\n",
            "Switzerland                        12             0.039867\n",
            "Portugal                           10             0.033223\n",
            "Brazil                              9             0.029900\n",
            "Argentina                           9             0.029900\n",
            "Canada                              6             0.019934\n",
            "Italy                               4             0.013289\n",
            "Finland                             3             0.009967\n",
            "France                              3             0.009967\n",
            "Philippines                         3             0.009967\n",
            "Russia                              1             0.003322\n",
            "Australia                           1             0.003322\n",
            "Dominican                           1             0.003322\n",
            "Austria                             1             0.003322\n",
            "Filipino                            1             0.003322\n",
            "Spain                               1             0.003322\n",
            "Serbia                              1             0.003322\n",
            "Northern Ireland                    1             0.003322\n",
            "Ireland                             1             0.003322\n",
            "Mexico                              1             0.003322\n"
          ]
        }
      ],
      "source": [
        "print(\"Variable Nationality:\")\n",
        "variableStats= df_forbes[\"Nationality\"].value_counts().to_frame(name='Frecuencia Absoluta')\n",
        "variableStats['Frecuencia Relativa']= df_forbes[\"Nationality\"].value_counts(normalize=True)\n",
        "print(variableStats)"
      ]
    },
    {
      "cell_type": "markdown",
      "metadata": {
        "id": "ZUIUYiR_uR5U"
      },
      "source": [
        "Se puede rescatar que en el ranking el pais moda es USA, confirmandolo con:"
      ]
    },
    {
      "cell_type": "code",
      "execution_count": 9,
      "metadata": {
        "colab": {
          "base_uri": "https://localhost:8080/"
        },
        "id": "eN91No5duRN3",
        "outputId": "873c6efe-c0bb-4641-87e5-dc955e983ec1"
      },
      "outputs": [
        {
          "name": "stdout",
          "output_type": "stream",
          "text": [
            "Moda:\n",
            "0    USA\n",
            "Name: Nationality, dtype: object\n"
          ]
        }
      ],
      "source": [
        "print(\"Moda:\\n%s\" % df_forbes[\"Nationality\"].mode())"
      ]
    },
    {
      "cell_type": "markdown",
      "metadata": {
        "id": "BubtdAfYuPCM"
      },
      "source": [
        "###c) Sport"
      ]
    },
    {
      "cell_type": "code",
      "execution_count": 10,
      "metadata": {
        "colab": {
          "base_uri": "https://localhost:8080/"
        },
        "id": "wi6oI_KFurl5",
        "outputId": "f6e71292-5ff5-4084-f387-2733f40d3f58"
      },
      "outputs": [
        {
          "name": "stdout",
          "output_type": "stream",
          "text": [
            "Variable Nationality:\n",
            "                              Frecuencia Absoluta  Frecuencia Relativa\n",
            "Sport                                                                 \n",
            "Basketball                                     54             0.179402\n",
            "Boxing                                         29             0.096346\n",
            "basketball                                     27             0.089701\n",
            "Golf                                           24             0.079734\n",
            "Soccer                                         22             0.073090\n",
            "golf                                           20             0.066445\n",
            "Tennis                                         18             0.059801\n",
            "boxing                                         17             0.056478\n",
            "American Football                              17             0.056478\n",
            "soccer                                         11             0.036545\n",
            "Auto Racing                                    10             0.033223\n",
            "F1 racing                                       8             0.026578\n",
            "auto racing                                     7             0.023256\n",
            "tennis                                          5             0.016611\n",
            "F1 Motorsports                                  5             0.016611\n",
            "motorcycle gp                                   4             0.013289\n",
            "NFL                                             3             0.009967\n",
            "Baseball                                        3             0.009967\n",
            "NASCAR                                          3             0.009967\n",
            "baseball                                        3             0.009967\n",
            "Ice Hockey                                      2             0.006645\n",
            "Auto Racing (Nascar)                            2             0.006645\n",
            "cycling                                         1             0.003322\n",
            "American Football / Baseball                    1             0.003322\n",
            "Hockey                                          1             0.003322\n",
            "ice hockey                                      1             0.003322\n",
            "NBA                                             1             0.003322\n",
            "Auto racing                                     1             0.003322\n",
            "MMA                                             1             0.003322\n"
          ]
        }
      ],
      "source": [
        "print(\"Variable Nationality:\")\n",
        "variableStats= df_forbes[\"Sport\"].value_counts().to_frame(name='Frecuencia Absoluta')\n",
        "variableStats['Frecuencia Relativa']= df_forbes[\"Sport\"].value_counts(normalize=True)\n",
        "print(variableStats)"
      ]
    },
    {
      "cell_type": "markdown",
      "metadata": {
        "id": "nzROdAUru-Kj"
      },
      "source": [
        "Se puede rescatar que en el ranking el deporte moda es el basketball, confirmandolo con:"
      ]
    },
    {
      "cell_type": "code",
      "execution_count": 11,
      "metadata": {
        "colab": {
          "base_uri": "https://localhost:8080/"
        },
        "id": "b46xywfouz2f",
        "outputId": "ade71dad-e71c-452a-c515-0d420ded3da3"
      },
      "outputs": [
        {
          "name": "stdout",
          "output_type": "stream",
          "text": [
            "Moda:\n",
            "0    Basketball\n",
            "Name: Sport, dtype: object\n"
          ]
        }
      ],
      "source": [
        "print(\"Moda:\\n%s\" % df_forbes[\"Sport\"].mode())"
      ]
    },
    {
      "cell_type": "markdown",
      "metadata": {
        "id": "7n2X_I9BgJ2k"
      },
      "source": [
        "#4. Graficos"
      ]
    },
    {
      "cell_type": "markdown",
      "metadata": {
        "id": "A-8pQyyE1nGy"
      },
      "source": [
        "##a) Gráfico de dispersion Pais v/s Deporte, de los #1"
      ]
    },
    {
      "cell_type": "code",
      "execution_count": 12,
      "metadata": {
        "id": "Ul46W2wBwtNJ"
      },
      "outputs": [],
      "source": [
        "df_forbes[\"Sport\"]=df_forbes[\"Sport\"].str.lower()\n",
        "df_firstPlace=df_forbes[df_forbes['Current Rank'] == 1]"
      ]
    },
    {
      "cell_type": "code",
      "execution_count": 13,
      "metadata": {
        "colab": {
          "base_uri": "https://localhost:8080/",
          "height": 430
        },
        "id": "mhFAg-3p3ORe",
        "outputId": "7909b1ba-187e-48c7-f911-31eadf214ef4"
      },
      "outputs": [
        {
          "data": {
            "image/png": "[encoded data removed]",
            "text/plain": [
              "<Figure size 640x480 with 1 Axes>"
            ]
          },
          "metadata": {},
          "output_type": "display_data"
        }
      ],
      "source": [
        "x = df_firstPlace[\"Nationality\"]\n",
        "y = df_firstPlace[\"Sport\"]\n",
        "\n",
        "plt.scatter(x, y, color='blue', alpha=0.1, s=150)\n",
        "plt.show()"
      ]
    },
    {
      "cell_type": "markdown",
      "metadata": {
        "id": "-7pjTmGb5HbR"
      },
      "source": [
        "A partir del grafico anterior se puede notar que los deportistas que han ocupado el primer lugar del ranking, se han mantenido dentro de 6 deportes, mientras que sus nacionalidades varian entre 5, manteniendo un claro dominio por parte de USA, donde el deporte que mas 1eros lugares ha entregado, es el golf."
      ]
    },
    {
      "cell_type": "markdown",
      "metadata": {
        "id": "BRthcY2z-cZG"
      },
      "source": [
        "## b) Variación por años de la suma de los suelos de los ateltas en el top del ranking"
      ]
    },
    {
      "cell_type": "code",
      "execution_count": 14,
      "metadata": {
        "id": "eemHqxRKBrPV"
      },
      "outputs": [],
      "source": [
        "df_agrupado = df_forbes.groupby('Year')['earnings ($ million)'].sum().reset_index()"
      ]
    },
    {
      "cell_type": "code",
      "execution_count": 15,
      "metadata": {
        "colab": {
          "base_uri": "https://localhost:8080/",
          "height": 488
        },
        "id": "IWk1dj1WAR1V",
        "outputId": "8010e898-32b7-45f3-8929-3066ab183ded"
      },
      "outputs": [
        {
          "data": {
            "image/png": "[encoded data removed]",
            "text/plain": [
              "<Figure size 1000x500 with 1 Axes>"
            ]
          },
          "metadata": {},
          "output_type": "display_data"
        }
      ],
      "source": [
        "fig = plt.figure(figsize = (10, 5))\n",
        "\n",
        "plt.bar(df_agrupado['Year'], df_agrupado['earnings ($ million)'], color ='maroon',\n",
        "        width = 0.4)\n",
        "\n",
        "plt.xlabel(\"Año\")\n",
        "plt.ylabel(\"Suma de sueldos (Millones de USD)\")\n",
        "plt.title(\"Variación de suma de los sueldos del top ranking por año\")\n",
        "plt.show()"
      ]
    },
    {
      "cell_type": "markdown",
      "metadata": {
        "id": "_9c_F0jcDm_x"
      },
      "source": [
        "El grafico anterior muestra como se presenta una tendencia en los montos que se le pagan a los atletas mejor pagados, presentando explosivos aumentos en 2015 y 2018."
      ]
    },
    {
      "cell_type": "markdown",
      "metadata": {
        "id": "ib2Hr_24CaIZ"
      },
      "source": [
        "## c) Ingresos por deporte"
      ]
    },
    {
      "cell_type": "code",
      "execution_count": 16,
      "metadata": {
        "colab": {
          "base_uri": "https://localhost:8080/",
          "height": 677
        },
        "id": "7iwqmLzECcV5",
        "outputId": "6cbe54a6-802d-4a19-8f6c-7e908e9172d7"
      },
      "outputs": [
        {
          "data": {
            "text/html": [
              "<div>\n",
              "<style scoped>\n",
              "    .dataframe tbody tr th:only-of-type {\n",
              "        vertical-align: middle;\n",
              "    }\n",
              "\n",
              "    .dataframe tbody tr th {\n",
              "        vertical-align: top;\n",
              "    }\n",
              "\n",
              "    .dataframe thead th {\n",
              "        text-align: right;\n",
              "    }\n",
              "</style>\n",
              "<table border=\"1\" class=\"dataframe\">\n",
              "  <thead>\n",
              "    <tr style=\"text-align: right;\">\n",
              "      <th></th>\n",
              "      <th>Sport</th>\n",
              "      <th>earnings ($ million)</th>\n",
              "    </tr>\n",
              "  </thead>\n",
              "  <tbody>\n",
              "    <tr>\n",
              "      <th>0</th>\n",
              "      <td>american football</td>\n",
              "      <td>901.2</td>\n",
              "    </tr>\n",
              "    <tr>\n",
              "      <th>1</th>\n",
              "      <td>american football / baseball</td>\n",
              "      <td>22.5</td>\n",
              "    </tr>\n",
              "    <tr>\n",
              "      <th>2</th>\n",
              "      <td>auto racing</td>\n",
              "      <td>386.3</td>\n",
              "    </tr>\n",
              "    <tr>\n",
              "      <th>3</th>\n",
              "      <td>auto racing (nascar)</td>\n",
              "      <td>44.5</td>\n",
              "    </tr>\n",
              "    <tr>\n",
              "      <th>4</th>\n",
              "      <td>baseball</td>\n",
              "      <td>146.1</td>\n",
              "    </tr>\n",
              "    <tr>\n",
              "      <th>5</th>\n",
              "      <td>basketball</td>\n",
              "      <td>3418.1</td>\n",
              "    </tr>\n",
              "    <tr>\n",
              "      <th>6</th>\n",
              "      <td>boxing</td>\n",
              "      <td>2298.8</td>\n",
              "    </tr>\n",
              "    <tr>\n",
              "      <th>7</th>\n",
              "      <td>cycling</td>\n",
              "      <td>28.0</td>\n",
              "    </tr>\n",
              "    <tr>\n",
              "      <th>8</th>\n",
              "      <td>f1 motorsports</td>\n",
              "      <td>248.0</td>\n",
              "    </tr>\n",
              "    <tr>\n",
              "      <th>9</th>\n",
              "      <td>f1 racing</td>\n",
              "      <td>397.0</td>\n",
              "    </tr>\n",
              "    <tr>\n",
              "      <th>10</th>\n",
              "      <td>golf</td>\n",
              "      <td>2136.5</td>\n",
              "    </tr>\n",
              "    <tr>\n",
              "      <th>11</th>\n",
              "      <td>hockey</td>\n",
              "      <td>17.9</td>\n",
              "    </tr>\n",
              "    <tr>\n",
              "      <th>12</th>\n",
              "      <td>ice hockey</td>\n",
              "      <td>57.8</td>\n",
              "    </tr>\n",
              "    <tr>\n",
              "      <th>13</th>\n",
              "      <td>mma</td>\n",
              "      <td>99.0</td>\n",
              "    </tr>\n",
              "    <tr>\n",
              "      <th>14</th>\n",
              "      <td>motorcycle gp</td>\n",
              "      <td>128.0</td>\n",
              "    </tr>\n",
              "    <tr>\n",
              "      <th>15</th>\n",
              "      <td>nascar</td>\n",
              "      <td>77.2</td>\n",
              "    </tr>\n",
              "    <tr>\n",
              "      <th>16</th>\n",
              "      <td>nba</td>\n",
              "      <td>15.2</td>\n",
              "    </tr>\n",
              "    <tr>\n",
              "      <th>17</th>\n",
              "      <td>nfl</td>\n",
              "      <td>37.5</td>\n",
              "    </tr>\n",
              "    <tr>\n",
              "      <th>18</th>\n",
              "      <td>soccer</td>\n",
              "      <td>2223.5</td>\n",
              "    </tr>\n",
              "    <tr>\n",
              "      <th>19</th>\n",
              "      <td>tennis</td>\n",
              "      <td>1017.3</td>\n",
              "    </tr>\n",
              "  </tbody>\n",
              "</table>\n",
              "</div>"
            ],
            "text/plain": [
              "                           Sport  earnings ($ million)\n",
              "0              american football                 901.2\n",
              "1   american football / baseball                  22.5\n",
              "2                    auto racing                 386.3\n",
              "3           auto racing (nascar)                  44.5\n",
              "4                       baseball                 146.1\n",
              "5                     basketball                3418.1\n",
              "6                         boxing                2298.8\n",
              "7                        cycling                  28.0\n",
              "8                 f1 motorsports                 248.0\n",
              "9                      f1 racing                 397.0\n",
              "10                          golf                2136.5\n",
              "11                        hockey                  17.9\n",
              "12                    ice hockey                  57.8\n",
              "13                           mma                  99.0\n",
              "14                 motorcycle gp                 128.0\n",
              "15                        nascar                  77.2\n",
              "16                           nba                  15.2\n",
              "17                           nfl                  37.5\n",
              "18                        soccer                2223.5\n",
              "19                        tennis                1017.3"
            ]
          },
          "execution_count": 16,
          "metadata": {},
          "output_type": "execute_result"
        }
      ],
      "source": [
        "df_porDeporte = df_forbes.groupby('Sport')['earnings ($ million)'].sum().reset_index()\n",
        "df_porDeporte"
      ]
    },
    {
      "cell_type": "code",
      "execution_count": 29,
      "metadata": {},
      "outputs": [
        {
          "data": {
            "image/png": "[encoded data removed]",
            "text/plain": [
              "<Figure size 2000x500 with 1 Axes>"
            ]
          },
          "metadata": {},
          "output_type": "display_data"
        }
      ],
      "source": [
        "fig, ax = plt.subplots(figsize=(20, 5))\n",
        "\n",
        "ax.plot(df_porDeporte['Sport'], df_porDeporte['earnings ($ million)'], '-o')\n",
        "\n",
        "ax.set_xlabel('Deportes')\n",
        "ax.set_ylabel('Suma de sueldos (en millones de dolares)')\n",
        "ax.set_title('Suma historica de los ingresos, por deporte')\n",
        "plt.xticks(rotation=90) #Se rotan las etiquetas para que se pueda apreciar el nombre de cada deporte\n",
        "\n",
        "plt.show()"
      ]
    },
    {
      "cell_type": "markdown",
      "metadata": {
        "id": "DatV_RWvGdm6"
      },
      "source": [
        "El gráfico presente permite dimensionar cuales son los deportes que mayor cantidad de dinero ha desembolsando en estos deportistas."
      ]
    },
    {
      "cell_type": "markdown",
      "metadata": {
        "id": "8nkXGdfdHBkQ"
      },
      "source": [
        "## d) Distribucion paga en los deportes"
      ]
    },
    {
      "cell_type": "code",
      "execution_count": 19,
      "metadata": {
        "colab": {
          "base_uri": "https://localhost:8080/",
          "height": 740
        },
        "id": "gEJg2kCbHBFe",
        "outputId": "e9ea01c9-90e3-411e-9af5-9e7907af69b6"
      },
      "outputs": [
        {
          "data": {
            "image/png": "[encoded data removed]",
            "text/plain": [
              "<Figure size 1000x500 with 1 Axes>"
            ]
          },
          "metadata": {},
          "output_type": "display_data"
        }
      ],
      "source": [
        "sports= ['boxing', 'auto racing', 'golf', 'basketball', 'tennis', 'nfl',\n",
        "       'nba', 'baseball', 'ice hockey', 'american football / baseball',\n",
        "       'f1 motorsports', 'nascar', 'hockey', 'auto racing (nascar)',\n",
        "       'f1 racing', 'american football', 'soccer', 'cycling',\n",
        "       'motorcycle gp', 'mma']\n",
        "\n",
        "data =[]\n",
        "for sport in sports:\n",
        "  # Filtrar el DataFrame por el deporte en específico\n",
        "  df_filtrado = df_forbes[df_forbes['Sport'] == sport]\n",
        "\n",
        "  # Obtener la columna 'Costo' como una lista\n",
        "  costos = df_filtrado['earnings ($ million)'].tolist()\n",
        "  data.append(costos)\n",
        "\n",
        "fig = plt.figure(figsize =(10, 5))\n",
        "\n",
        "# Creating axes instance\n",
        "ax = fig.add_axes([0, 0, 1, 1])\n",
        "\n",
        "# Creating plot\n",
        "bp = ax.boxplot(data)\n",
        "\n",
        "# Cambiar las etiquetas del eje X\n",
        "plt.xticks(range(1, len(sports) + 1), sports, rotation='vertical')\n",
        "# show plot\n",
        "plt.show()"
      ]
    },
    {
      "cell_type": "markdown",
      "metadata": {
        "id": "vB9CnTuXLtPn"
      },
      "source": [
        "Aca se puede notar que hay deportes con altos pagos maximos por año como el boxeo, el cual, sin embargo, tambien alcanza los valores mas bajo en este dataset, lo cual se puede inferir basado en la antiguedad del deporte como espectaculo a diferencia de la mayoria de los otros deportes en el dataset. No pasa lo mismo que en el punto anterior en el mma, donde no varia mucho los mejores pagados, pero el monto siempre es relativamente alto."
      ]
    },
    {
      "cell_type": "markdown",
      "metadata": {
        "id": "2122NedshfL-"
      },
      "source": [
        "# 5. Categorización de variable *earnings*"
      ]
    },
    {
      "cell_type": "markdown",
      "metadata": {
        "id": "SpoEZjwTowLh"
      },
      "source": [
        "Primero, se categorizó la columna solicitada:"
      ]
    },
    {
      "cell_type": "code",
      "execution_count": 20,
      "metadata": {
        "colab": {
          "base_uri": "https://localhost:8080/",
          "height": 112
        },
        "id": "hsIaFUU8ihy2",
        "outputId": "bd7cf97b-6faa-495b-cc8f-be0fbb690f45"
      },
      "outputs": [
        {
          "data": {
            "text/html": [
              "<div>\n",
              "<style scoped>\n",
              "    .dataframe tbody tr th:only-of-type {\n",
              "        vertical-align: middle;\n",
              "    }\n",
              "\n",
              "    .dataframe tbody tr th {\n",
              "        vertical-align: top;\n",
              "    }\n",
              "\n",
              "    .dataframe thead th {\n",
              "        text-align: right;\n",
              "    }\n",
              "</style>\n",
              "<table border=\"1\" class=\"dataframe\">\n",
              "  <thead>\n",
              "    <tr style=\"text-align: right;\">\n",
              "      <th></th>\n",
              "      <th>S.NO</th>\n",
              "      <th>Name</th>\n",
              "      <th>Nationality</th>\n",
              "      <th>Current Rank</th>\n",
              "      <th>Previous Year Rank</th>\n",
              "      <th>Sport</th>\n",
              "      <th>Year</th>\n",
              "      <th>earnings ($ million)</th>\n",
              "      <th>Sallary based levels</th>\n",
              "    </tr>\n",
              "  </thead>\n",
              "  <tbody>\n",
              "    <tr>\n",
              "      <th>241</th>\n",
              "      <td>242</td>\n",
              "      <td>Floyd Mayweather</td>\n",
              "      <td>USA</td>\n",
              "      <td>1</td>\n",
              "      <td>1</td>\n",
              "      <td>boxing</td>\n",
              "      <td>2015</td>\n",
              "      <td>300.0</td>\n",
              "      <td>10° level</td>\n",
              "    </tr>\n",
              "    <tr>\n",
              "      <th>271</th>\n",
              "      <td>272</td>\n",
              "      <td>Floyd Mayweather</td>\n",
              "      <td>USA</td>\n",
              "      <td>1</td>\n",
              "      <td>&gt;100</td>\n",
              "      <td>boxing</td>\n",
              "      <td>2018</td>\n",
              "      <td>285.0</td>\n",
              "      <td>10° level</td>\n",
              "    </tr>\n",
              "  </tbody>\n",
              "</table>\n",
              "</div>"
            ],
            "text/plain": [
              "     S.NO              Name Nationality  Current Rank Previous Year Rank  \\\n",
              "241   242  Floyd Mayweather         USA             1                  1   \n",
              "271   272  Floyd Mayweather         USA             1               >100   \n",
              "\n",
              "      Sport  Year  earnings ($ million) Sallary based levels  \n",
              "241  boxing  2015                 300.0            10° level  \n",
              "271  boxing  2018                 285.0            10° level  "
            ]
          },
          "execution_count": 20,
          "metadata": {},
          "output_type": "execute_result"
        }
      ],
      "source": [
        "rango=(300-8.1)/10 #Se separaron segun deciles del rango completo de salarios que han tenido los rankings\n",
        "bins = [8.1, rango+8.1, 2*rango+8.1, 3*rango+8.1, 4*rango+8.1, 5*rango+8.1, 6*rango+8.1, 7*rango+8.1, 8*rango+8.1, 9*rango+8.1, 10*rango+8.1]\n",
        "\n",
        "nombres_categorias = ['1° level', '2° level', '3° level', '4° level', '5° level', '6° level', '7° level', '8° level', '9° level', '10° level']\n",
        "\n",
        "df_forbes['Sallary based levels'] = pd.cut(df_forbes['earnings ($ million)'], bins, labels=nombres_categorias)\n",
        "df_forbes[df_forbes['Sallary based levels']==\"10° level\"]"
      ]
    },
    {
      "cell_type": "markdown",
      "metadata": {
        "id": "j3WBi_-uouQ2"
      },
      "source": [
        "Luego, se presenta un grafico el cual representa la cantidad de deportistas que pertenecen a cada nivel:"
      ]
    },
    {
      "cell_type": "code",
      "execution_count": 21,
      "metadata": {
        "colab": {
          "base_uri": "https://localhost:8080/",
          "height": 680
        },
        "id": "WzDkevGuo6Bg",
        "outputId": "a396f0e4-4801-4c22-bf64-8ac252a6404d"
      },
      "outputs": [
        {
          "data": {
            "image/png": "[encoded data removed]",
            "text/plain": [
              "<Figure size 1000x750 with 1 Axes>"
            ]
          },
          "metadata": {},
          "output_type": "display_data"
        }
      ],
      "source": [
        "frecuencias = df_forbes['Sallary based levels'].value_counts()\n",
        "\n",
        "frecuencias.index = pd.Categorical(frecuencias.index, categories=nombres_categorias, ordered=True)\n",
        "frecuencias = frecuencias.sort_index()\n",
        "\n",
        "plt.figure(figsize=(10, 7.5))\n",
        "# Crear un gráfico de barras de las frecuencias\n",
        "plt.bar(frecuencias.index, frecuencias.values)\n",
        "\n",
        "# Añadir etiquetas a los ejes y título al gráfico\n",
        "plt.xlabel('Nivel')\n",
        "plt.ylabel('Frecuencia')\n",
        "plt.title('Frecuencia de cada nivel')\n",
        "\n",
        "plt.show()"
      ]
    },
    {
      "cell_type": "markdown",
      "metadata": {
        "id": "gLdb9jT6sLRF"
      },
      "source": [
        "Como es de esperar, los niveles mas bajos cuentan con mayor cantidad de deportistas que los niveles superiores, mientras que los niveles 7, 8 y 9 no cuentan con elementos asociados a ellos, comprobado con las siguientes operaciones que lo confirman:"
      ]
    },
    {
      "cell_type": "code",
      "execution_count": 22,
      "metadata": {
        "colab": {
          "base_uri": "https://localhost:8080/"
        },
        "id": "bed-04ZYsXPp",
        "outputId": "839b0f13-4c9c-46fe-bf27-29cea1fea472"
      },
      "outputs": [
        {
          "data": {
            "text/plain": [
              "S.NO                    0\n",
              "Name                    0\n",
              "Nationality             0\n",
              "Current Rank            0\n",
              "Previous Year Rank      0\n",
              "Sport                   0\n",
              "Year                    0\n",
              "earnings ($ million)    0\n",
              "Sallary based levels    0\n",
              "dtype: int64"
            ]
          },
          "execution_count": 22,
          "metadata": {},
          "output_type": "execute_result"
        }
      ],
      "source": [
        "df_forbes[df_forbes['Sallary based levels']=='7° level'].count()"
      ]
    },
    {
      "cell_type": "code",
      "execution_count": 23,
      "metadata": {
        "colab": {
          "base_uri": "https://localhost:8080/"
        },
        "id": "vTz9dRmytJmT",
        "outputId": "ea09a201-80f4-4aa5-ebf8-d9739599a5b8"
      },
      "outputs": [
        {
          "data": {
            "text/plain": [
              "S.NO                    0\n",
              "Name                    0\n",
              "Nationality             0\n",
              "Current Rank            0\n",
              "Previous Year Rank      0\n",
              "Sport                   0\n",
              "Year                    0\n",
              "earnings ($ million)    0\n",
              "Sallary based levels    0\n",
              "dtype: int64"
            ]
          },
          "execution_count": 23,
          "metadata": {},
          "output_type": "execute_result"
        }
      ],
      "source": [
        "df_forbes[df_forbes['Sallary based levels']=='8° level'].count()"
      ]
    },
    {
      "cell_type": "code",
      "execution_count": 24,
      "metadata": {
        "colab": {
          "base_uri": "https://localhost:8080/"
        },
        "id": "hb8sOxJ2tJ8C",
        "outputId": "0512126e-9e9e-4473-ca20-3ae5ffa93564"
      },
      "outputs": [
        {
          "data": {
            "text/plain": [
              "S.NO                    0\n",
              "Name                    0\n",
              "Nationality             0\n",
              "Current Rank            0\n",
              "Previous Year Rank      0\n",
              "Sport                   0\n",
              "Year                    0\n",
              "earnings ($ million)    0\n",
              "Sallary based levels    0\n",
              "dtype: int64"
            ]
          },
          "execution_count": 24,
          "metadata": {},
          "output_type": "execute_result"
        }
      ],
      "source": [
        "df_forbes[df_forbes['Sallary based levels']=='9° level'].count()"
      ]
    },
    {
      "cell_type": "markdown",
      "metadata": {
        "id": "1CAb9TcYm_gj"
      },
      "source": [
        "#6 Preguntas"
      ]
    },
    {
      "cell_type": "markdown",
      "metadata": {
        "id": "PtkCOYclnBmY"
      },
      "source": [
        "## a) ¿Quién es la persona que más dinero ganó en un año?"
      ]
    },
    {
      "cell_type": "markdown",
      "metadata": {
        "id": "CC79XkWfnFxq"
      },
      "source": [
        "Usando la clasificación hecha en la pregunta 5, se puede ver que el unico atleta en el nivel 10 (el más alto) es **Floyd Mayweather**."
      ]
    },
    {
      "cell_type": "markdown",
      "metadata": {
        "id": "9rgvFf7EnTjg"
      },
      "source": [
        "## b) ¿Cuál es el deporte que más se repite dentro de la lista?"
      ]
    },
    {
      "cell_type": "markdown",
      "metadata": {
        "id": "9w8uSL8OnYIz"
      },
      "source": [
        "Basado en el desarrollo 3.c), se extrae que el deporte que mas aparece es el **Basquetball** con una frecuencia absoluta de 0.179402, con lo cual toma el lugar del deporte mas repetido con un $17,94\\%$ de las apariciones."
      ]
    },
    {
      "cell_type": "markdown",
      "metadata": {
        "id": "MfP80QBPnv_M"
      },
      "source": [
        "## c) ¿Cuál es el deporte donde más dinero se gana?"
      ]
    },
    {
      "cell_type": "markdown",
      "metadata": {
        "id": "eA2nkTuJn0xA"
      },
      "source": [
        "La respuesta que se puede entregar es en base al ranking entregado, el cual solo contiene los deportistas mejor pagados de cada año, no con los sueldos de todos los deportistas, por lo que con base en el desarrollo 4.c), se concluye que es el **basketball** con **USD$3418.1 millones**."
      ]
    }
  ],
  "metadata": {
    "colab": {
      "collapsed_sections": [
        "tMNOVF3i4wLb",
        "7-bXqgtmfmy9",
        "iMfrQVKRBolR",
        "2MK_v283gE5a",
        "SRgvTuXdgWt0",
        "PQalaivegaNW",
        "xTzZxSC2tNlh",
        "WqrLng9muINM",
        "BubtdAfYuPCM"
      ],
      "provenance": [],
      "toc_visible": true
    },
    "kernelspec": {
      "display_name": "Python 3",
      "name": "python3"
    },
    "language_info": {
      "codemirror_mode": {
        "name": "ipython",
        "version": 3
      },
      "file_extension": ".py",
      "mimetype": "text/x-python",
      "name": "python",
      "nbconvert_exporter": "python",
      "pygments_lexer": "ipython3",
      "version": "3.11.3"
    }
  },
  "nbformat": 4,
  "nbformat_minor": 0
}
