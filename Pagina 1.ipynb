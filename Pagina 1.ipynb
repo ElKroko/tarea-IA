{
  "nbformat": 4,
  "nbformat_minor": 0,
  "metadata": {
    "colab": {
      "provenance": [],
      "collapsed_sections": [
        "tMNOVF3i4wLb",
        "7-bXqgtmfmy9",
        "iMfrQVKRBolR",
        "2MK_v283gE5a",
        "SRgvTuXdgWt0",
        "PQalaivegaNW",
        "xTzZxSC2tNlh",
        "WqrLng9muINM",
        "BubtdAfYuPCM"
      ],
      "toc_visible": true
    },
    "kernelspec": {
      "name": "python3",
      "display_name": "Python 3"
    },
    "language_info": {
      "name": "python"
    }
  },
  "cells": [
    {
      "cell_type": "markdown",
      "source": [
        "#0. Librerias"
      ],
      "metadata": {
        "id": "tMNOVF3i4wLb"
      }
    },
    {
      "cell_type": "code",
      "execution_count": 1,
      "metadata": {
        "id": "anFAfoVqSjs-"
      },
      "outputs": [],
      "source": [
        "import pandas as pd\n",
        "import numpy as np\n",
        "\n",
        "import matplotlib.pyplot as plt\n",
        "import plotly.express as px"
      ]
    },
    {
      "cell_type": "markdown",
      "source": [
        "#1. Carga de datos"
      ],
      "metadata": {
        "id": "7-bXqgtmfmy9"
      }
    },
    {
      "cell_type": "code",
      "source": [
        "from google.colab import files\n",
        "\n",
        "files.upload()"
      ],
      "metadata": {
        "colab": {
          "base_uri": "https://localhost:8080/",
          "height": 92
        },
        "id": "xYxpX1NIS_3w",
        "outputId": "b2997163-f170-421c-fd39-edd0a77ae04b"
      },
      "execution_count": 2,
      "outputs": [
        {
          "output_type": "display_data",
          "data": {
            "text/plain": [
              "<IPython.core.display.HTML object>"
            ],
            "text/html": [
              "\n",
              "     <input type=\"file\" id=\"files-2a1d0734-64f9-47e8-987c-a4616b60a763\" name=\"files[]\" multiple disabled\n",
              "        style=\"border:none\" />\n",
              "     <output id=\"result-2a1d0734-64f9-47e8-987c-a4616b60a763\">\n",
              "      Upload widget is only available when the cell has been executed in the\n",
              "      current browser session. Please rerun this cell to enable.\n",
              "      </output>\n",
              "      <script>// Copyright 2017 Google LLC\n",
              "//\n",
              "// Licensed under the Apache License, Version 2.0 (the \"License\");\n",
              "// you may not use this file except in compliance with the License.\n",
              "// You may obtain a copy of the License at\n",
              "//\n",
              "//      http://www.apache.org/licenses/LICENSE-2.0\n",
              "//\n",
              "// Unless required by applicable law or agreed to in writing, software\n",
              "// distributed under the License is distributed on an \"AS IS\" BASIS,\n",
              "// WITHOUT WARRANTIES OR CONDITIONS OF ANY KIND, either express or implied.\n",
              "// See the License for the specific language governing permissions and\n",
              "// limitations under the License.\n",
              "\n",
              "/**\n",
              " * @fileoverview Helpers for google.colab Python module.\n",
              " */\n",
              "(function(scope) {\n",
              "function span(text, styleAttributes = {}) {\n",
              "  const element = document.createElement('span');\n",
              "  element.textContent = text;\n",
              "  for (const key of Object.keys(styleAttributes)) {\n",
              "    element.style[key] = styleAttributes[key];\n",
              "  }\n",
              "  return element;\n",
              "}\n",
              "\n",
              "// Max number of bytes which will be uploaded at a time.\n",
              "const MAX_PAYLOAD_SIZE = 100 * 1024;\n",
              "\n",
              "function _uploadFiles(inputId, outputId) {\n",
              "  const steps = uploadFilesStep(inputId, outputId);\n",
              "  const outputElement = document.getElementById(outputId);\n",
              "  // Cache steps on the outputElement to make it available for the next call\n",
              "  // to uploadFilesContinue from Python.\n",
              "  outputElement.steps = steps;\n",
              "\n",
              "  return _uploadFilesContinue(outputId);\n",
              "}\n",
              "\n",
              "// This is roughly an async generator (not supported in the browser yet),\n",
              "// where there are multiple asynchronous steps and the Python side is going\n",
              "// to poll for completion of each step.\n",
              "// This uses a Promise to block the python side on completion of each step,\n",
              "// then passes the result of the previous step as the input to the next step.\n",
              "function _uploadFilesContinue(outputId) {\n",
              "  const outputElement = document.getElementById(outputId);\n",
              "  const steps = outputElement.steps;\n",
              "\n",
              "  const next = steps.next(outputElement.lastPromiseValue);\n",
              "  return Promise.resolve(next.value.promise).then((value) => {\n",
              "    // Cache the last promise value to make it available to the next\n",
              "    // step of the generator.\n",
              "    outputElement.lastPromiseValue = value;\n",
              "    return next.value.response;\n",
              "  });\n",
              "}\n",
              "\n",
              "/**\n",
              " * Generator function which is called between each async step of the upload\n",
              " * process.\n",
              " * @param {string} inputId Element ID of the input file picker element.\n",
              " * @param {string} outputId Element ID of the output display.\n",
              " * @return {!Iterable<!Object>} Iterable of next steps.\n",
              " */\n",
              "function* uploadFilesStep(inputId, outputId) {\n",
              "  const inputElement = document.getElementById(inputId);\n",
              "  inputElement.disabled = false;\n",
              "\n",
              "  const outputElement = document.getElementById(outputId);\n",
              "  outputElement.innerHTML = '';\n",
              "\n",
              "  const pickedPromise = new Promise((resolve) => {\n",
              "    inputElement.addEventListener('change', (e) => {\n",
              "      resolve(e.target.files);\n",
              "    });\n",
              "  });\n",
              "\n",
              "  const cancel = document.createElement('button');\n",
              "  inputElement.parentElement.appendChild(cancel);\n",
              "  cancel.textContent = 'Cancel upload';\n",
              "  const cancelPromise = new Promise((resolve) => {\n",
              "    cancel.onclick = () => {\n",
              "      resolve(null);\n",
              "    };\n",
              "  });\n",
              "\n",
              "  // Wait for the user to pick the files.\n",
              "  const files = yield {\n",
              "    promise: Promise.race([pickedPromise, cancelPromise]),\n",
              "    response: {\n",
              "      action: 'starting',\n",
              "    }\n",
              "  };\n",
              "\n",
              "  cancel.remove();\n",
              "\n",
              "  // Disable the input element since further picks are not allowed.\n",
              "  inputElement.disabled = true;\n",
              "\n",
              "  if (!files) {\n",
              "    return {\n",
              "      response: {\n",
              "        action: 'complete',\n",
              "      }\n",
              "    };\n",
              "  }\n",
              "\n",
              "  for (const file of files) {\n",
              "    const li = document.createElement('li');\n",
              "    li.append(span(file.name, {fontWeight: 'bold'}));\n",
              "    li.append(span(\n",
              "        `(${file.type || 'n/a'}) - ${file.size} bytes, ` +\n",
              "        `last modified: ${\n",
              "            file.lastModifiedDate ? file.lastModifiedDate.toLocaleDateString() :\n",
              "                                    'n/a'} - `));\n",
              "    const percent = span('0% done');\n",
              "    li.appendChild(percent);\n",
              "\n",
              "    outputElement.appendChild(li);\n",
              "\n",
              "    const fileDataPromise = new Promise((resolve) => {\n",
              "      const reader = new FileReader();\n",
              "      reader.onload = (e) => {\n",
              "        resolve(e.target.result);\n",
              "      };\n",
              "      reader.readAsArrayBuffer(file);\n",
              "    });\n",
              "    // Wait for the data to be ready.\n",
              "    let fileData = yield {\n",
              "      promise: fileDataPromise,\n",
              "      response: {\n",
              "        action: 'continue',\n",
              "      }\n",
              "    };\n",
              "\n",
              "    // Use a chunked sending to avoid message size limits. See b/62115660.\n",
              "    let position = 0;\n",
              "    do {\n",
              "      const length = Math.min(fileData.byteLength - position, MAX_PAYLOAD_SIZE);\n",
              "      const chunk = new Uint8Array(fileData, position, length);\n",
              "      position += length;\n",
              "\n",
              "      const base64 = btoa(String.fromCharCode.apply(null, chunk));\n",
              "      yield {\n",
              "        response: {\n",
              "          action: 'append',\n",
              "          file: file.name,\n",
              "          data: base64,\n",
              "        },\n",
              "      };\n",
              "\n",
              "      let percentDone = fileData.byteLength === 0 ?\n",
              "          100 :\n",
              "          Math.round((position / fileData.byteLength) * 100);\n",
              "      percent.textContent = `${percentDone}% done`;\n",
              "\n",
              "    } while (position < fileData.byteLength);\n",
              "  }\n",
              "\n",
              "  // All done.\n",
              "  yield {\n",
              "    response: {\n",
              "      action: 'complete',\n",
              "    }\n",
              "  };\n",
              "}\n",
              "\n",
              "scope.google = scope.google || {};\n",
              "scope.google.colab = scope.google.colab || {};\n",
              "scope.google.colab._files = {\n",
              "  _uploadFiles,\n",
              "  _uploadFilesContinue,\n",
              "};\n",
              "})(self);\n",
              "</script> "
            ]
          },
          "metadata": {}
        },
        {
          "output_type": "stream",
          "name": "stdout",
          "text": [
            "Saving kaggle.json to kaggle.json\n"
          ]
        },
        {
          "output_type": "execute_result",
          "data": {
            "text/plain": [
              "{'kaggle.json': b'{\"username\":\"alanzapatasilva\",\"key\":\"f6d7fdc4da9c2335cb2751bb019eb6b5\"}'}"
            ]
          },
          "metadata": {},
          "execution_count": 2
        }
      ]
    },
    {
      "cell_type": "code",
      "source": [
        "!mkdir ~/.kaggle\n",
        "!cp kaggle.json ~/.kaggle/\n",
        "!chmod 600 ~/.kaggle/kaggle.json"
      ],
      "metadata": {
        "id": "ltoE1BlETBIQ"
      },
      "execution_count": 3,
      "outputs": []
    },
    {
      "cell_type": "code",
      "source": [
        "!kaggle datasets download -d parulpandey/forbes-highest-paid-athletes-19902019\n",
        "!mkdir /content/data/\n",
        "!mkdir /content/data/forbes\n",
        "!unzip /content/forbes-highest-paid-athletes-19902019.zip -d /content/data/forbes/"
      ],
      "metadata": {
        "colab": {
          "base_uri": "https://localhost:8080/"
        },
        "id": "4FXtWQEwcSBE",
        "outputId": "b9c1e263-aed1-4cf8-be3a-c9202f75caf9"
      },
      "execution_count": 4,
      "outputs": [
        {
          "output_type": "stream",
          "name": "stdout",
          "text": [
            "Downloading forbes-highest-paid-athletes-19902019.zip to /content\n",
            "\r  0% 0.00/4.26k [00:00<?, ?B/s]\n",
            "\r100% 4.26k/4.26k [00:00<00:00, 8.15MB/s]\n",
            "Archive:  /content/forbes-highest-paid-athletes-19902019.zip\n",
            "  inflating: /content/data/forbes/Forbes Richest Atheletes (Forbes Richest Athletes 1990-2020).csv  \n"
          ]
        }
      ]
    },
    {
      "cell_type": "code",
      "source": [
        "df_forbes = pd.read_csv(\"/content/data/forbes/Forbes Richest Atheletes (Forbes Richest Athletes 1990-2020).csv\")"
      ],
      "metadata": {
        "id": "TaT_t8U5vYcW"
      },
      "execution_count": 5,
      "outputs": []
    },
    {
      "cell_type": "code",
      "source": [
        "df_forbes"
      ],
      "metadata": {
        "colab": {
          "base_uri": "https://localhost:8080/",
          "height": 424
        },
        "id": "XvN789p6vq0-",
        "outputId": "ca7145fb-d91a-4db3-955d-5b522f377b5b"
      },
      "execution_count": 6,
      "outputs": [
        {
          "output_type": "execute_result",
          "data": {
            "text/plain": [
              "     S.NO               Name Nationality  Current Rank Previous Year Rank  \\\n",
              "0       1         Mike Tyson         USA             1                NaN   \n",
              "1       2     Buster Douglas         USA             2                NaN   \n",
              "2       3  Sugar Ray Leonard         USA             3                NaN   \n",
              "3       4       Ayrton Senna      Brazil             4                NaN   \n",
              "4       5        Alain Prost      France             5                NaN   \n",
              "..    ...                ...         ...           ...                ...   \n",
              "296   297      Stephen Curry         USA             6                  9   \n",
              "297   298       Kevin Durant         USA             7                 10   \n",
              "298   299        Tiger Woods         USA             8                 11   \n",
              "299   300       Kirk Cousins         USA             9               >100   \n",
              "300   301       Carson Wentz         USA            10               >100   \n",
              "\n",
              "                 Sport  Year  earnings ($ million)  \n",
              "0               boxing  1990                  28.6  \n",
              "1               boxing  1990                  26.0  \n",
              "2               boxing  1990                  13.0  \n",
              "3          auto racing  1990                  10.0  \n",
              "4          auto racing  1990                   9.0  \n",
              "..                 ...   ...                   ...  \n",
              "296         Basketball  2020                  74.4  \n",
              "297         Basketball  2020                  63.9  \n",
              "298               Golf  2020                  62.3  \n",
              "299  American Football  2020                  60.5  \n",
              "300  American Football  2020                  59.1  \n",
              "\n",
              "[301 rows x 8 columns]"
            ],
            "text/html": [
              "\n",
              "\n",
              "  <div id=\"df-bbce7940-9a57-4cce-8dbe-afe4ec6b839a\">\n",
              "    <div class=\"colab-df-container\">\n",
              "      <div>\n",
              "<style scoped>\n",
              "    .dataframe tbody tr th:only-of-type {\n",
              "        vertical-align: middle;\n",
              "    }\n",
              "\n",
              "    .dataframe tbody tr th {\n",
              "        vertical-align: top;\n",
              "    }\n",
              "\n",
              "    .dataframe thead th {\n",
              "        text-align: right;\n",
              "    }\n",
              "</style>\n",
              "<table border=\"1\" class=\"dataframe\">\n",
              "  <thead>\n",
              "    <tr style=\"text-align: right;\">\n",
              "      <th></th>\n",
              "      <th>S.NO</th>\n",
              "      <th>Name</th>\n",
              "      <th>Nationality</th>\n",
              "      <th>Current Rank</th>\n",
              "      <th>Previous Year Rank</th>\n",
              "      <th>Sport</th>\n",
              "      <th>Year</th>\n",
              "      <th>earnings ($ million)</th>\n",
              "    </tr>\n",
              "  </thead>\n",
              "  <tbody>\n",
              "    <tr>\n",
              "      <th>0</th>\n",
              "      <td>1</td>\n",
              "      <td>Mike Tyson</td>\n",
              "      <td>USA</td>\n",
              "      <td>1</td>\n",
              "      <td>NaN</td>\n",
              "      <td>boxing</td>\n",
              "      <td>1990</td>\n",
              "      <td>28.6</td>\n",
              "    </tr>\n",
              "    <tr>\n",
              "      <th>1</th>\n",
              "      <td>2</td>\n",
              "      <td>Buster Douglas</td>\n",
              "      <td>USA</td>\n",
              "      <td>2</td>\n",
              "      <td>NaN</td>\n",
              "      <td>boxing</td>\n",
              "      <td>1990</td>\n",
              "      <td>26.0</td>\n",
              "    </tr>\n",
              "    <tr>\n",
              "      <th>2</th>\n",
              "      <td>3</td>\n",
              "      <td>Sugar Ray Leonard</td>\n",
              "      <td>USA</td>\n",
              "      <td>3</td>\n",
              "      <td>NaN</td>\n",
              "      <td>boxing</td>\n",
              "      <td>1990</td>\n",
              "      <td>13.0</td>\n",
              "    </tr>\n",
              "    <tr>\n",
              "      <th>3</th>\n",
              "      <td>4</td>\n",
              "      <td>Ayrton Senna</td>\n",
              "      <td>Brazil</td>\n",
              "      <td>4</td>\n",
              "      <td>NaN</td>\n",
              "      <td>auto racing</td>\n",
              "      <td>1990</td>\n",
              "      <td>10.0</td>\n",
              "    </tr>\n",
              "    <tr>\n",
              "      <th>4</th>\n",
              "      <td>5</td>\n",
              "      <td>Alain Prost</td>\n",
              "      <td>France</td>\n",
              "      <td>5</td>\n",
              "      <td>NaN</td>\n",
              "      <td>auto racing</td>\n",
              "      <td>1990</td>\n",
              "      <td>9.0</td>\n",
              "    </tr>\n",
              "    <tr>\n",
              "      <th>...</th>\n",
              "      <td>...</td>\n",
              "      <td>...</td>\n",
              "      <td>...</td>\n",
              "      <td>...</td>\n",
              "      <td>...</td>\n",
              "      <td>...</td>\n",
              "      <td>...</td>\n",
              "      <td>...</td>\n",
              "    </tr>\n",
              "    <tr>\n",
              "      <th>296</th>\n",
              "      <td>297</td>\n",
              "      <td>Stephen Curry</td>\n",
              "      <td>USA</td>\n",
              "      <td>6</td>\n",
              "      <td>9</td>\n",
              "      <td>Basketball</td>\n",
              "      <td>2020</td>\n",
              "      <td>74.4</td>\n",
              "    </tr>\n",
              "    <tr>\n",
              "      <th>297</th>\n",
              "      <td>298</td>\n",
              "      <td>Kevin Durant</td>\n",
              "      <td>USA</td>\n",
              "      <td>7</td>\n",
              "      <td>10</td>\n",
              "      <td>Basketball</td>\n",
              "      <td>2020</td>\n",
              "      <td>63.9</td>\n",
              "    </tr>\n",
              "    <tr>\n",
              "      <th>298</th>\n",
              "      <td>299</td>\n",
              "      <td>Tiger Woods</td>\n",
              "      <td>USA</td>\n",
              "      <td>8</td>\n",
              "      <td>11</td>\n",
              "      <td>Golf</td>\n",
              "      <td>2020</td>\n",
              "      <td>62.3</td>\n",
              "    </tr>\n",
              "    <tr>\n",
              "      <th>299</th>\n",
              "      <td>300</td>\n",
              "      <td>Kirk Cousins</td>\n",
              "      <td>USA</td>\n",
              "      <td>9</td>\n",
              "      <td>&gt;100</td>\n",
              "      <td>American Football</td>\n",
              "      <td>2020</td>\n",
              "      <td>60.5</td>\n",
              "    </tr>\n",
              "    <tr>\n",
              "      <th>300</th>\n",
              "      <td>301</td>\n",
              "      <td>Carson Wentz</td>\n",
              "      <td>USA</td>\n",
              "      <td>10</td>\n",
              "      <td>&gt;100</td>\n",
              "      <td>American Football</td>\n",
              "      <td>2020</td>\n",
              "      <td>59.1</td>\n",
              "    </tr>\n",
              "  </tbody>\n",
              "</table>\n",
              "<p>301 rows × 8 columns</p>\n",
              "</div>\n",
              "      <button class=\"colab-df-convert\" onclick=\"convertToInteractive('df-bbce7940-9a57-4cce-8dbe-afe4ec6b839a')\"\n",
              "              title=\"Convert this dataframe to an interactive table.\"\n",
              "              style=\"display:none;\">\n",
              "\n",
              "  <svg xmlns=\"http://www.w3.org/2000/svg\" height=\"24px\"viewBox=\"0 0 24 24\"\n",
              "       width=\"24px\">\n",
              "    <path d=\"M0 0h24v24H0V0z\" fill=\"none\"/>\n",
              "    <path d=\"M18.56 5.44l.94 2.06.94-2.06 2.06-.94-2.06-.94-.94-2.06-.94 2.06-2.06.94zm-11 1L8.5 8.5l.94-2.06 2.06-.94-2.06-.94L8.5 2.5l-.94 2.06-2.06.94zm10 10l.94 2.06.94-2.06 2.06-.94-2.06-.94-.94-2.06-.94 2.06-2.06.94z\"/><path d=\"M17.41 7.96l-1.37-1.37c-.4-.4-.92-.59-1.43-.59-.52 0-1.04.2-1.43.59L10.3 9.45l-7.72 7.72c-.78.78-.78 2.05 0 2.83L4 21.41c.39.39.9.59 1.41.59.51 0 1.02-.2 1.41-.59l7.78-7.78 2.81-2.81c.8-.78.8-2.07 0-2.86zM5.41 20L4 18.59l7.72-7.72 1.47 1.35L5.41 20z\"/>\n",
              "  </svg>\n",
              "      </button>\n",
              "\n",
              "\n",
              "\n",
              "    <div id=\"df-532dbe83-3969-4c43-9cfa-4013fe60aba6\">\n",
              "      <button class=\"colab-df-quickchart\" onclick=\"quickchart('df-532dbe83-3969-4c43-9cfa-4013fe60aba6')\"\n",
              "              title=\"Suggest charts.\"\n",
              "              style=\"display:none;\">\n",
              "\n",
              "<svg xmlns=\"http://www.w3.org/2000/svg\" height=\"24px\"viewBox=\"0 0 24 24\"\n",
              "     width=\"24px\">\n",
              "    <g>\n",
              "        <path d=\"M19 3H5c-1.1 0-2 .9-2 2v14c0 1.1.9 2 2 2h14c1.1 0 2-.9 2-2V5c0-1.1-.9-2-2-2zM9 17H7v-7h2v7zm4 0h-2V7h2v10zm4 0h-2v-4h2v4z\"/>\n",
              "    </g>\n",
              "</svg>\n",
              "      </button>\n",
              "    </div>\n",
              "\n",
              "<style>\n",
              "  .colab-df-quickchart {\n",
              "    background-color: #E8F0FE;\n",
              "    border: none;\n",
              "    border-radius: 50%;\n",
              "    cursor: pointer;\n",
              "    display: none;\n",
              "    fill: #1967D2;\n",
              "    height: 32px;\n",
              "    padding: 0 0 0 0;\n",
              "    width: 32px;\n",
              "  }\n",
              "\n",
              "  .colab-df-quickchart:hover {\n",
              "    background-color: #E2EBFA;\n",
              "    box-shadow: 0px 1px 2px rgba(60, 64, 67, 0.3), 0px 1px 3px 1px rgba(60, 64, 67, 0.15);\n",
              "    fill: #174EA6;\n",
              "  }\n",
              "\n",
              "  [theme=dark] .colab-df-quickchart {\n",
              "    background-color: #3B4455;\n",
              "    fill: #D2E3FC;\n",
              "  }\n",
              "\n",
              "  [theme=dark] .colab-df-quickchart:hover {\n",
              "    background-color: #434B5C;\n",
              "    box-shadow: 0px 1px 3px 1px rgba(0, 0, 0, 0.15);\n",
              "    filter: drop-shadow(0px 1px 2px rgba(0, 0, 0, 0.3));\n",
              "    fill: #FFFFFF;\n",
              "  }\n",
              "</style>\n",
              "\n",
              "    <script>\n",
              "      async function quickchart(key) {\n",
              "        const containerElement = document.querySelector('#' + key);\n",
              "        const charts = await google.colab.kernel.invokeFunction(\n",
              "            'suggestCharts', [key], {});\n",
              "      }\n",
              "    </script>\n",
              "\n",
              "      <script>\n",
              "\n",
              "function displayQuickchartButton(domScope) {\n",
              "  let quickchartButtonEl =\n",
              "    domScope.querySelector('#df-532dbe83-3969-4c43-9cfa-4013fe60aba6 button.colab-df-quickchart');\n",
              "  quickchartButtonEl.style.display =\n",
              "    google.colab.kernel.accessAllowed ? 'block' : 'none';\n",
              "}\n",
              "\n",
              "        displayQuickchartButton(document);\n",
              "      </script>\n",
              "      <style>\n",
              "    .colab-df-container {\n",
              "      display:flex;\n",
              "      flex-wrap:wrap;\n",
              "      gap: 12px;\n",
              "    }\n",
              "\n",
              "    .colab-df-convert {\n",
              "      background-color: #E8F0FE;\n",
              "      border: none;\n",
              "      border-radius: 50%;\n",
              "      cursor: pointer;\n",
              "      display: none;\n",
              "      fill: #1967D2;\n",
              "      height: 32px;\n",
              "      padding: 0 0 0 0;\n",
              "      width: 32px;\n",
              "    }\n",
              "\n",
              "    .colab-df-convert:hover {\n",
              "      background-color: #E2EBFA;\n",
              "      box-shadow: 0px 1px 2px rgba(60, 64, 67, 0.3), 0px 1px 3px 1px rgba(60, 64, 67, 0.15);\n",
              "      fill: #174EA6;\n",
              "    }\n",
              "\n",
              "    [theme=dark] .colab-df-convert {\n",
              "      background-color: #3B4455;\n",
              "      fill: #D2E3FC;\n",
              "    }\n",
              "\n",
              "    [theme=dark] .colab-df-convert:hover {\n",
              "      background-color: #434B5C;\n",
              "      box-shadow: 0px 1px 3px 1px rgba(0, 0, 0, 0.15);\n",
              "      filter: drop-shadow(0px 1px 2px rgba(0, 0, 0, 0.3));\n",
              "      fill: #FFFFFF;\n",
              "    }\n",
              "  </style>\n",
              "\n",
              "      <script>\n",
              "        const buttonEl =\n",
              "          document.querySelector('#df-bbce7940-9a57-4cce-8dbe-afe4ec6b839a button.colab-df-convert');\n",
              "        buttonEl.style.display =\n",
              "          google.colab.kernel.accessAllowed ? 'block' : 'none';\n",
              "\n",
              "        async function convertToInteractive(key) {\n",
              "          const element = document.querySelector('#df-bbce7940-9a57-4cce-8dbe-afe4ec6b839a');\n",
              "          const dataTable =\n",
              "            await google.colab.kernel.invokeFunction('convertToInteractive',\n",
              "                                                     [key], {});\n",
              "          if (!dataTable) return;\n",
              "\n",
              "          const docLinkHtml = 'Like what you see? Visit the ' +\n",
              "            '<a target=\"_blank\" href=https://colab.research.google.com/notebooks/data_table.ipynb>data table notebook</a>'\n",
              "            + ' to learn more about interactive tables.';\n",
              "          element.innerHTML = '';\n",
              "          dataTable['output_type'] = 'display_data';\n",
              "          await google.colab.output.renderOutput(dataTable, element);\n",
              "          const docLink = document.createElement('div');\n",
              "          docLink.innerHTML = docLinkHtml;\n",
              "          element.appendChild(docLink);\n",
              "        }\n",
              "      </script>\n",
              "    </div>\n",
              "  </div>\n"
            ]
          },
          "metadata": {},
          "execution_count": 6
        }
      ]
    },
    {
      "cell_type": "markdown",
      "source": [
        "#2. Identifiación de tipos de datos de cada variables"
      ],
      "metadata": {
        "id": "iMfrQVKRBolR"
      }
    },
    {
      "cell_type": "markdown",
      "source": [
        "Tipos de variables en el dataset:\n",
        "\n",
        "*   **S.NO** : Numerica discreta\n",
        "*   **Name** : Categorica nominal\n",
        "*   **Nationality** : Categorica nominal\n",
        "*   **Current Rank** : Numerica discreta\n",
        "*   **Previous Year Rank** : Numerica discreta\n",
        "*   **Sport** : Categorica nominal\n",
        "*   **Year** : Numerica discreta\n",
        "*   **earnings** (*$ million*) : Numerica continua"
      ],
      "metadata": {
        "id": "D7LpshgeBtsV"
      }
    },
    {
      "cell_type": "markdown",
      "source": [
        "#3. Estadisticas para variables"
      ],
      "metadata": {
        "id": "2MK_v283gE5a"
      }
    },
    {
      "cell_type": "markdown",
      "source": [
        "## Variables tipo numericas"
      ],
      "metadata": {
        "id": "SRgvTuXdgWt0"
      }
    },
    {
      "cell_type": "code",
      "source": [
        "df_forbes.describe()"
      ],
      "metadata": {
        "colab": {
          "base_uri": "https://localhost:8080/",
          "height": 300
        },
        "id": "mIRzCKt6YeH1",
        "outputId": "fa25d22a-a6a7-45a1-9553-85fa8ad06434"
      },
      "execution_count": 7,
      "outputs": [
        {
          "output_type": "execute_result",
          "data": {
            "text/plain": [
              "             S.NO  Current Rank         Year  earnings ($ million)\n",
              "count  301.000000    301.000000   301.000000            301.000000\n",
              "mean   151.000000      5.448505  2005.122924             45.516279\n",
              "std     87.035433      2.850995     9.063563             33.525337\n",
              "min      1.000000      1.000000  1990.000000              8.100000\n",
              "25%     76.000000      3.000000  1997.000000             24.000000\n",
              "50%    151.000000      5.000000  2005.000000             39.000000\n",
              "75%    226.000000      8.000000  2013.000000             59.400000\n",
              "max    301.000000     10.000000  2020.000000            300.000000"
            ],
            "text/html": [
              "\n",
              "\n",
              "  <div id=\"df-3be397de-0bb7-4e4a-8f44-954e743aea16\">\n",
              "    <div class=\"colab-df-container\">\n",
              "      <div>\n",
              "<style scoped>\n",
              "    .dataframe tbody tr th:only-of-type {\n",
              "        vertical-align: middle;\n",
              "    }\n",
              "\n",
              "    .dataframe tbody tr th {\n",
              "        vertical-align: top;\n",
              "    }\n",
              "\n",
              "    .dataframe thead th {\n",
              "        text-align: right;\n",
              "    }\n",
              "</style>\n",
              "<table border=\"1\" class=\"dataframe\">\n",
              "  <thead>\n",
              "    <tr style=\"text-align: right;\">\n",
              "      <th></th>\n",
              "      <th>S.NO</th>\n",
              "      <th>Current Rank</th>\n",
              "      <th>Year</th>\n",
              "      <th>earnings ($ million)</th>\n",
              "    </tr>\n",
              "  </thead>\n",
              "  <tbody>\n",
              "    <tr>\n",
              "      <th>count</th>\n",
              "      <td>301.000000</td>\n",
              "      <td>301.000000</td>\n",
              "      <td>301.000000</td>\n",
              "      <td>301.000000</td>\n",
              "    </tr>\n",
              "    <tr>\n",
              "      <th>mean</th>\n",
              "      <td>151.000000</td>\n",
              "      <td>5.448505</td>\n",
              "      <td>2005.122924</td>\n",
              "      <td>45.516279</td>\n",
              "    </tr>\n",
              "    <tr>\n",
              "      <th>std</th>\n",
              "      <td>87.035433</td>\n",
              "      <td>2.850995</td>\n",
              "      <td>9.063563</td>\n",
              "      <td>33.525337</td>\n",
              "    </tr>\n",
              "    <tr>\n",
              "      <th>min</th>\n",
              "      <td>1.000000</td>\n",
              "      <td>1.000000</td>\n",
              "      <td>1990.000000</td>\n",
              "      <td>8.100000</td>\n",
              "    </tr>\n",
              "    <tr>\n",
              "      <th>25%</th>\n",
              "      <td>76.000000</td>\n",
              "      <td>3.000000</td>\n",
              "      <td>1997.000000</td>\n",
              "      <td>24.000000</td>\n",
              "    </tr>\n",
              "    <tr>\n",
              "      <th>50%</th>\n",
              "      <td>151.000000</td>\n",
              "      <td>5.000000</td>\n",
              "      <td>2005.000000</td>\n",
              "      <td>39.000000</td>\n",
              "    </tr>\n",
              "    <tr>\n",
              "      <th>75%</th>\n",
              "      <td>226.000000</td>\n",
              "      <td>8.000000</td>\n",
              "      <td>2013.000000</td>\n",
              "      <td>59.400000</td>\n",
              "    </tr>\n",
              "    <tr>\n",
              "      <th>max</th>\n",
              "      <td>301.000000</td>\n",
              "      <td>10.000000</td>\n",
              "      <td>2020.000000</td>\n",
              "      <td>300.000000</td>\n",
              "    </tr>\n",
              "  </tbody>\n",
              "</table>\n",
              "</div>\n",
              "      <button class=\"colab-df-convert\" onclick=\"convertToInteractive('df-3be397de-0bb7-4e4a-8f44-954e743aea16')\"\n",
              "              title=\"Convert this dataframe to an interactive table.\"\n",
              "              style=\"display:none;\">\n",
              "\n",
              "  <svg xmlns=\"http://www.w3.org/2000/svg\" height=\"24px\"viewBox=\"0 0 24 24\"\n",
              "       width=\"24px\">\n",
              "    <path d=\"M0 0h24v24H0V0z\" fill=\"none\"/>\n",
              "    <path d=\"M18.56 5.44l.94 2.06.94-2.06 2.06-.94-2.06-.94-.94-2.06-.94 2.06-2.06.94zm-11 1L8.5 8.5l.94-2.06 2.06-.94-2.06-.94L8.5 2.5l-.94 2.06-2.06.94zm10 10l.94 2.06.94-2.06 2.06-.94-2.06-.94-.94-2.06-.94 2.06-2.06.94z\"/><path d=\"M17.41 7.96l-1.37-1.37c-.4-.4-.92-.59-1.43-.59-.52 0-1.04.2-1.43.59L10.3 9.45l-7.72 7.72c-.78.78-.78 2.05 0 2.83L4 21.41c.39.39.9.59 1.41.59.51 0 1.02-.2 1.41-.59l7.78-7.78 2.81-2.81c.8-.78.8-2.07 0-2.86zM5.41 20L4 18.59l7.72-7.72 1.47 1.35L5.41 20z\"/>\n",
              "  </svg>\n",
              "      </button>\n",
              "\n",
              "\n",
              "\n",
              "    <div id=\"df-479c0655-3599-4731-8211-ed85ab3a6b90\">\n",
              "      <button class=\"colab-df-quickchart\" onclick=\"quickchart('df-479c0655-3599-4731-8211-ed85ab3a6b90')\"\n",
              "              title=\"Suggest charts.\"\n",
              "              style=\"display:none;\">\n",
              "\n",
              "<svg xmlns=\"http://www.w3.org/2000/svg\" height=\"24px\"viewBox=\"0 0 24 24\"\n",
              "     width=\"24px\">\n",
              "    <g>\n",
              "        <path d=\"M19 3H5c-1.1 0-2 .9-2 2v14c0 1.1.9 2 2 2h14c1.1 0 2-.9 2-2V5c0-1.1-.9-2-2-2zM9 17H7v-7h2v7zm4 0h-2V7h2v10zm4 0h-2v-4h2v4z\"/>\n",
              "    </g>\n",
              "</svg>\n",
              "      </button>\n",
              "    </div>\n",
              "\n",
              "<style>\n",
              "  .colab-df-quickchart {\n",
              "    background-color: #E8F0FE;\n",
              "    border: none;\n",
              "    border-radius: 50%;\n",
              "    cursor: pointer;\n",
              "    display: none;\n",
              "    fill: #1967D2;\n",
              "    height: 32px;\n",
              "    padding: 0 0 0 0;\n",
              "    width: 32px;\n",
              "  }\n",
              "\n",
              "  .colab-df-quickchart:hover {\n",
              "    background-color: #E2EBFA;\n",
              "    box-shadow: 0px 1px 2px rgba(60, 64, 67, 0.3), 0px 1px 3px 1px rgba(60, 64, 67, 0.15);\n",
              "    fill: #174EA6;\n",
              "  }\n",
              "\n",
              "  [theme=dark] .colab-df-quickchart {\n",
              "    background-color: #3B4455;\n",
              "    fill: #D2E3FC;\n",
              "  }\n",
              "\n",
              "  [theme=dark] .colab-df-quickchart:hover {\n",
              "    background-color: #434B5C;\n",
              "    box-shadow: 0px 1px 3px 1px rgba(0, 0, 0, 0.15);\n",
              "    filter: drop-shadow(0px 1px 2px rgba(0, 0, 0, 0.3));\n",
              "    fill: #FFFFFF;\n",
              "  }\n",
              "</style>\n",
              "\n",
              "    <script>\n",
              "      async function quickchart(key) {\n",
              "        const containerElement = document.querySelector('#' + key);\n",
              "        const charts = await google.colab.kernel.invokeFunction(\n",
              "            'suggestCharts', [key], {});\n",
              "      }\n",
              "    </script>\n",
              "\n",
              "      <script>\n",
              "\n",
              "function displayQuickchartButton(domScope) {\n",
              "  let quickchartButtonEl =\n",
              "    domScope.querySelector('#df-479c0655-3599-4731-8211-ed85ab3a6b90 button.colab-df-quickchart');\n",
              "  quickchartButtonEl.style.display =\n",
              "    google.colab.kernel.accessAllowed ? 'block' : 'none';\n",
              "}\n",
              "\n",
              "        displayQuickchartButton(document);\n",
              "      </script>\n",
              "      <style>\n",
              "    .colab-df-container {\n",
              "      display:flex;\n",
              "      flex-wrap:wrap;\n",
              "      gap: 12px;\n",
              "    }\n",
              "\n",
              "    .colab-df-convert {\n",
              "      background-color: #E8F0FE;\n",
              "      border: none;\n",
              "      border-radius: 50%;\n",
              "      cursor: pointer;\n",
              "      display: none;\n",
              "      fill: #1967D2;\n",
              "      height: 32px;\n",
              "      padding: 0 0 0 0;\n",
              "      width: 32px;\n",
              "    }\n",
              "\n",
              "    .colab-df-convert:hover {\n",
              "      background-color: #E2EBFA;\n",
              "      box-shadow: 0px 1px 2px rgba(60, 64, 67, 0.3), 0px 1px 3px 1px rgba(60, 64, 67, 0.15);\n",
              "      fill: #174EA6;\n",
              "    }\n",
              "\n",
              "    [theme=dark] .colab-df-convert {\n",
              "      background-color: #3B4455;\n",
              "      fill: #D2E3FC;\n",
              "    }\n",
              "\n",
              "    [theme=dark] .colab-df-convert:hover {\n",
              "      background-color: #434B5C;\n",
              "      box-shadow: 0px 1px 3px 1px rgba(0, 0, 0, 0.15);\n",
              "      filter: drop-shadow(0px 1px 2px rgba(0, 0, 0, 0.3));\n",
              "      fill: #FFFFFF;\n",
              "    }\n",
              "  </style>\n",
              "\n",
              "      <script>\n",
              "        const buttonEl =\n",
              "          document.querySelector('#df-3be397de-0bb7-4e4a-8f44-954e743aea16 button.colab-df-convert');\n",
              "        buttonEl.style.display =\n",
              "          google.colab.kernel.accessAllowed ? 'block' : 'none';\n",
              "\n",
              "        async function convertToInteractive(key) {\n",
              "          const element = document.querySelector('#df-3be397de-0bb7-4e4a-8f44-954e743aea16');\n",
              "          const dataTable =\n",
              "            await google.colab.kernel.invokeFunction('convertToInteractive',\n",
              "                                                     [key], {});\n",
              "          if (!dataTable) return;\n",
              "\n",
              "          const docLinkHtml = 'Like what you see? Visit the ' +\n",
              "            '<a target=\"_blank\" href=https://colab.research.google.com/notebooks/data_table.ipynb>data table notebook</a>'\n",
              "            + ' to learn more about interactive tables.';\n",
              "          element.innerHTML = '';\n",
              "          dataTable['output_type'] = 'display_data';\n",
              "          await google.colab.output.renderOutput(dataTable, element);\n",
              "          const docLink = document.createElement('div');\n",
              "          docLink.innerHTML = docLinkHtml;\n",
              "          element.appendChild(docLink);\n",
              "        }\n",
              "      </script>\n",
              "    </div>\n",
              "  </div>\n"
            ]
          },
          "metadata": {},
          "execution_count": 7
        }
      ]
    },
    {
      "cell_type": "markdown",
      "source": [
        "En el dataFrame mostrado arriba, las abreviaciones de los titulos de las filas significan:\n",
        "- **count**: Cantidad de registros\n",
        "- **mean**: Media aritmetica\n",
        "- **std**: Desviación estandar\n",
        "- **min**: Menor valor que toma la variable\n",
        "- **25%**: Primer cuartil\n",
        "- **50%**: Mediana/Segundo cuartil\n",
        "- **75%**: Tercer cuartil\n",
        "- **max**: Maximo valor que toma la variable"
      ],
      "metadata": {
        "id": "cXsD_d3XbQVk"
      }
    },
    {
      "cell_type": "markdown",
      "source": [
        "## Variables tipo categoricas"
      ],
      "metadata": {
        "id": "PQalaivegaNW"
      }
    },
    {
      "cell_type": "markdown",
      "source": [
        "A continuacion se presenta el estudio de las variables categoricas, en donde se encuentran las cifras de frecuencia absoluta y relativa de cada variable, haciendo enfasis en la moda en la variable en estudio."
      ],
      "metadata": {
        "id": "JMHzWGw4s6xr"
      }
    },
    {
      "cell_type": "markdown",
      "source": [
        "###a) Name"
      ],
      "metadata": {
        "id": "xTzZxSC2tNlh"
      }
    },
    {
      "cell_type": "code",
      "source": [
        "print(\"Variable Name:\")\n",
        "variableStats= df_forbes[\"Name\"].value_counts().to_frame(name='Frecuencia Absoluta')\n",
        "variableStats['Frecuencia Relativa']= df_forbes[\"Name\"].value_counts(normalize=True)\n",
        "print(variableStats)"
      ],
      "metadata": {
        "colab": {
          "base_uri": "https://localhost:8080/"
        },
        "id": "tZttw9hKhZ3C",
        "outputId": "e00d95ab-b407-4341-cd91-24f5f1f6b27b"
      },
      "execution_count": 8,
      "outputs": [
        {
          "output_type": "stream",
          "name": "stdout",
          "text": [
            "Variable Name:\n",
            "                    Frecuencia Absoluta  Frecuencia Relativa\n",
            "Tiger Woods                          19             0.063123\n",
            "Michael Jordan                       19             0.063123\n",
            "Kobe Bryant                          14             0.046512\n",
            "LeBron James                         13             0.043189\n",
            "Michael Schumacher                   13             0.043189\n",
            "...                                 ...                  ...\n",
            "Tom Brady                             1             0.003322\n",
            "Michael Moorer                        1             0.003322\n",
            "Dale Earnhardt Jr.                    1             0.003322\n",
            "Greg Norman                           1             0.003322\n",
            "Carson Wentz                          1             0.003322\n",
            "\n",
            "[82 rows x 2 columns]\n"
          ]
        }
      ]
    },
    {
      "cell_type": "markdown",
      "source": [
        "Se puede notar que los atletas mas repetidos (moda) son Tiger Woods y Michael Jordan, reforzandolo con:"
      ],
      "metadata": {
        "id": "-Nj0ZMbrtQ5Y"
      }
    },
    {
      "cell_type": "code",
      "source": [
        "print(\"Moda:\\n%s\" % df_forbes[\"Name\"].mode())"
      ],
      "metadata": {
        "colab": {
          "base_uri": "https://localhost:8080/"
        },
        "id": "txWL0gXftf65",
        "outputId": "c48eeb6a-90b6-48d5-a4a3-fb84019edbc2"
      },
      "execution_count": 9,
      "outputs": [
        {
          "output_type": "stream",
          "name": "stdout",
          "text": [
            "Moda:\n",
            "0    Michael Jordan\n",
            "1       Tiger Woods\n",
            "Name: Name, dtype: object\n"
          ]
        }
      ]
    },
    {
      "cell_type": "markdown",
      "source": [
        "###b) Nationality"
      ],
      "metadata": {
        "id": "WqrLng9muINM"
      }
    },
    {
      "cell_type": "code",
      "source": [
        "print(\"Variable Nationality:\")\n",
        "variableStats= df_forbes[\"Nationality\"].value_counts().to_frame(name='Frecuencia Absoluta')\n",
        "variableStats['Frecuencia Relativa']= df_forbes[\"Nationality\"].value_counts(normalize=True)\n",
        "print(variableStats)"
      ],
      "metadata": {
        "colab": {
          "base_uri": "https://localhost:8080/"
        },
        "id": "15nx7k4LuQ80",
        "outputId": "bcc5b180-7f7f-4804-9012-827c6c1c1e1a"
      },
      "execution_count": 10,
      "outputs": [
        {
          "output_type": "stream",
          "name": "stdout",
          "text": [
            "Variable Nationality:\n",
            "                  Frecuencia Absoluta  Frecuencia Relativa\n",
            "USA                               206             0.684385\n",
            "UK                                 13             0.043189\n",
            "Germany                            13             0.043189\n",
            "Switzerland                        12             0.039867\n",
            "Portugal                           10             0.033223\n",
            "Brazil                              9             0.029900\n",
            "Argentina                           9             0.029900\n",
            "Canada                              6             0.019934\n",
            "Italy                               4             0.013289\n",
            "Finland                             3             0.009967\n",
            "France                              3             0.009967\n",
            "Philippines                         3             0.009967\n",
            "Russia                              1             0.003322\n",
            "Australia                           1             0.003322\n",
            "Dominican                           1             0.003322\n",
            "Austria                             1             0.003322\n",
            "Filipino                            1             0.003322\n",
            "Spain                               1             0.003322\n",
            "Serbia                              1             0.003322\n",
            "Northern Ireland                    1             0.003322\n",
            "Ireland                             1             0.003322\n",
            "Mexico                              1             0.003322\n"
          ]
        }
      ]
    },
    {
      "cell_type": "markdown",
      "source": [
        "Se puede rescatar que en el ranking el pais moda es USA, confirmandolo con:"
      ],
      "metadata": {
        "id": "ZUIUYiR_uR5U"
      }
    },
    {
      "cell_type": "code",
      "source": [
        "print(\"Moda:\\n%s\" % df_forbes[\"Nationality\"].mode())"
      ],
      "metadata": {
        "colab": {
          "base_uri": "https://localhost:8080/"
        },
        "id": "eN91No5duRN3",
        "outputId": "873c6efe-c0bb-4641-87e5-dc955e983ec1"
      },
      "execution_count": 11,
      "outputs": [
        {
          "output_type": "stream",
          "name": "stdout",
          "text": [
            "Moda:\n",
            "0    USA\n",
            "Name: Nationality, dtype: object\n"
          ]
        }
      ]
    },
    {
      "cell_type": "markdown",
      "source": [
        "###c) Sport"
      ],
      "metadata": {
        "id": "BubtdAfYuPCM"
      }
    },
    {
      "cell_type": "code",
      "source": [
        "print(\"Variable Nationality:\")\n",
        "variableStats= df_forbes[\"Sport\"].value_counts().to_frame(name='Frecuencia Absoluta')\n",
        "variableStats['Frecuencia Relativa']= df_forbes[\"Sport\"].value_counts(normalize=True)\n",
        "print(variableStats)"
      ],
      "metadata": {
        "colab": {
          "base_uri": "https://localhost:8080/"
        },
        "id": "wi6oI_KFurl5",
        "outputId": "f6e71292-5ff5-4084-f387-2733f40d3f58"
      },
      "execution_count": 12,
      "outputs": [
        {
          "output_type": "stream",
          "name": "stdout",
          "text": [
            "Variable Nationality:\n",
            "                              Frecuencia Absoluta  Frecuencia Relativa\n",
            "Basketball                                     54             0.179402\n",
            "Boxing                                         29             0.096346\n",
            "basketball                                     27             0.089701\n",
            "Golf                                           24             0.079734\n",
            "Soccer                                         22             0.073090\n",
            "golf                                           20             0.066445\n",
            "Tennis                                         18             0.059801\n",
            "boxing                                         17             0.056478\n",
            "American Football                              17             0.056478\n",
            "soccer                                         11             0.036545\n",
            "Auto Racing                                    10             0.033223\n",
            "F1 racing                                       8             0.026578\n",
            "auto racing                                     7             0.023256\n",
            "tennis                                          5             0.016611\n",
            "F1 Motorsports                                  5             0.016611\n",
            "motorcycle gp                                   4             0.013289\n",
            "NFL                                             3             0.009967\n",
            "Baseball                                        3             0.009967\n",
            "NASCAR                                          3             0.009967\n",
            "baseball                                        3             0.009967\n",
            "Ice Hockey                                      2             0.006645\n",
            "Auto Racing (Nascar)                            2             0.006645\n",
            "cycling                                         1             0.003322\n",
            "American Football / Baseball                    1             0.003322\n",
            "Hockey                                          1             0.003322\n",
            "ice hockey                                      1             0.003322\n",
            "NBA                                             1             0.003322\n",
            "Auto racing                                     1             0.003322\n",
            "MMA                                             1             0.003322\n"
          ]
        }
      ]
    },
    {
      "cell_type": "markdown",
      "source": [
        "Se puede rescatar que en el ranking el deporte moda es el basketball, confirmandolo con:"
      ],
      "metadata": {
        "id": "nzROdAUru-Kj"
      }
    },
    {
      "cell_type": "code",
      "source": [
        "print(\"Moda:\\n%s\" % df_forbes[\"Sport\"].mode())"
      ],
      "metadata": {
        "colab": {
          "base_uri": "https://localhost:8080/"
        },
        "id": "b46xywfouz2f",
        "outputId": "ade71dad-e71c-452a-c515-0d420ded3da3"
      },
      "execution_count": 13,
      "outputs": [
        {
          "output_type": "stream",
          "name": "stdout",
          "text": [
            "Moda:\n",
            "0    Basketball\n",
            "Name: Sport, dtype: object\n"
          ]
        }
      ]
    },
    {
      "cell_type": "markdown",
      "source": [
        "#4. Graficos"
      ],
      "metadata": {
        "id": "7n2X_I9BgJ2k"
      }
    },
    {
      "cell_type": "markdown",
      "source": [
        "##a) Gráfico de dispersion Pais v/s Deporte, de los #1"
      ],
      "metadata": {
        "id": "A-8pQyyE1nGy"
      }
    },
    {
      "cell_type": "code",
      "source": [
        "df_forbes[\"Sport\"]=df_forbes[\"Sport\"].str.lower()\n",
        "df_firstPlace=df_forbes[df_forbes['Current Rank'] == 1]"
      ],
      "metadata": {
        "id": "Ul46W2wBwtNJ"
      },
      "execution_count": 22,
      "outputs": []
    },
    {
      "cell_type": "code",
      "source": [
        "x = df_firstPlace[\"Nationality\"]\n",
        "y = df_firstPlace[\"Sport\"]\n",
        "\n",
        "plt.scatter(x, y, color='blue', alpha=0.1, s=150)\n",
        "plt.show()"
      ],
      "metadata": {
        "colab": {
          "base_uri": "https://localhost:8080/",
          "height": 430
        },
        "id": "mhFAg-3p3ORe",
        "outputId": "7909b1ba-187e-48c7-f911-31eadf214ef4"
      },
      "execution_count": 23,
      "outputs": [
        {
          "output_type": "display_data",
          "data": {
            "text/plain": [
              "<Figure size 640x480 with 1 Axes>"
            ],
            "image/png": "[encoded data removed]"
          },
          "metadata": {}
        }
      ]
    },
    {
      "cell_type": "markdown",
      "source": [
        "A partir del grafico anterior se puede notar que los deportistas que han ocupado el primer lugar del ranking, se han mantenido dentro de 6 deportes, mientras que sus nacionalidades varian entre 5, manteniendo un claro dominio por parte de USA, donde el deporte que mas 1eros lugares ha entregado, es el golf."
      ],
      "metadata": {
        "id": "-7pjTmGb5HbR"
      }
    },
    {
      "cell_type": "markdown",
      "source": [
        "##b) Variación por años de la suma de los suelos de los ateltas en el top del ranking"
      ],
      "metadata": {
        "id": "BRthcY2z-cZG"
      }
    },
    {
      "cell_type": "code",
      "source": [
        "df_agrupado = df_forbes.groupby('Year')['earnings ($ million)'].sum().reset_index()"
      ],
      "metadata": {
        "id": "eemHqxRKBrPV"
      },
      "execution_count": 17,
      "outputs": []
    },
    {
      "cell_type": "code",
      "source": [
        "fig = plt.figure(figsize = (10, 5))\n",
        "\n",
        "plt.bar(df_agrupado['Year'], df_agrupado['earnings ($ million)'], color ='maroon',\n",
        "        width = 0.4)\n",
        "\n",
        "plt.xlabel(\"Año\")\n",
        "plt.ylabel(\"Suma de sueldos (Millones de USD)\")\n",
        "plt.title(\"Variación de suma de los sueldos del top ranking por año\")\n",
        "plt.show()"
      ],
      "metadata": {
        "colab": {
          "base_uri": "https://localhost:8080/",
          "height": 488
        },
        "id": "IWk1dj1WAR1V",
        "outputId": "8010e898-32b7-45f3-8929-3066ab183ded"
      },
      "execution_count": 18,
      "outputs": [
        {
          "output_type": "display_data",
          "data": {
            "text/plain": [
              "<Figure size 1000x500 with 1 Axes>"
            ],
            "image/png": "[encoded data removed]"
          },
          "metadata": {}
        }
      ]
    },
    {
      "cell_type": "markdown",
      "source": [
        "El grafico anterior muestra como se presenta una tendencia en los montos que se le pagan a los atletas mejor pagados, presentando explosivos aumentos en 2015 y 2018."
      ],
      "metadata": {
        "id": "_9c_F0jcDm_x"
      }
    },
    {
      "cell_type": "markdown",
      "source": [
        "##c) Ingresos por deporte"
      ],
      "metadata": {
        "id": "ib2Hr_24CaIZ"
      }
    },
    {
      "cell_type": "code",
      "source": [
        "df_porDeporte = df_forbes.groupby('Sport')['earnings ($ million)'].sum().reset_index()\n",
        "df_porDeporte"
      ],
      "metadata": {
        "colab": {
          "base_uri": "https://localhost:8080/",
          "height": 677
        },
        "id": "7iwqmLzECcV5",
        "outputId": "6cbe54a6-802d-4a19-8f6c-7e908e9172d7"
      },
      "execution_count": 19,
      "outputs": [
        {
          "output_type": "execute_result",
          "data": {
            "text/plain": [
              "                           Sport  earnings ($ million)\n",
              "0              american football                 901.2\n",
              "1   american football / baseball                  22.5\n",
              "2                    auto racing                 386.3\n",
              "3           auto racing (nascar)                  44.5\n",
              "4                       baseball                 146.1\n",
              "5                     basketball                3418.1\n",
              "6                         boxing                2298.8\n",
              "7                        cycling                  28.0\n",
              "8                 f1 motorsports                 248.0\n",
              "9                      f1 racing                 397.0\n",
              "10                          golf                2136.5\n",
              "11                        hockey                  17.9\n",
              "12                    ice hockey                  57.8\n",
              "13                           mma                  99.0\n",
              "14                 motorcycle gp                 128.0\n",
              "15                        nascar                  77.2\n",
              "16                           nba                  15.2\n",
              "17                           nfl                  37.5\n",
              "18                        soccer                2223.5\n",
              "19                        tennis                1017.3"
            ],
            "text/html": [
              "\n",
              "\n",
              "  <div id=\"df-392bf90f-c371-4826-a844-e377600705f9\">\n",
              "    <div class=\"colab-df-container\">\n",
              "      <div>\n",
              "<style scoped>\n",
              "    .dataframe tbody tr th:only-of-type {\n",
              "        vertical-align: middle;\n",
              "    }\n",
              "\n",
              "    .dataframe tbody tr th {\n",
              "        vertical-align: top;\n",
              "    }\n",
              "\n",
              "    .dataframe thead th {\n",
              "        text-align: right;\n",
              "    }\n",
              "</style>\n",
              "<table border=\"1\" class=\"dataframe\">\n",
              "  <thead>\n",
              "    <tr style=\"text-align: right;\">\n",
              "      <th></th>\n",
              "      <th>Sport</th>\n",
              "      <th>earnings ($ million)</th>\n",
              "    </tr>\n",
              "  </thead>\n",
              "  <tbody>\n",
              "    <tr>\n",
              "      <th>0</th>\n",
              "      <td>american football</td>\n",
              "      <td>901.2</td>\n",
              "    </tr>\n",
              "    <tr>\n",
              "      <th>1</th>\n",
              "      <td>american football / baseball</td>\n",
              "      <td>22.5</td>\n",
              "    </tr>\n",
              "    <tr>\n",
              "      <th>2</th>\n",
              "      <td>auto racing</td>\n",
              "      <td>386.3</td>\n",
              "    </tr>\n",
              "    <tr>\n",
              "      <th>3</th>\n",
              "      <td>auto racing (nascar)</td>\n",
              "      <td>44.5</td>\n",
              "    </tr>\n",
              "    <tr>\n",
              "      <th>4</th>\n",
              "      <td>baseball</td>\n",
              "      <td>146.1</td>\n",
              "    </tr>\n",
              "    <tr>\n",
              "      <th>5</th>\n",
              "      <td>basketball</td>\n",
              "      <td>3418.1</td>\n",
              "    </tr>\n",
              "    <tr>\n",
              "      <th>6</th>\n",
              "      <td>boxing</td>\n",
              "      <td>2298.8</td>\n",
              "    </tr>\n",
              "    <tr>\n",
              "      <th>7</th>\n",
              "      <td>cycling</td>\n",
              "      <td>28.0</td>\n",
              "    </tr>\n",
              "    <tr>\n",
              "      <th>8</th>\n",
              "      <td>f1 motorsports</td>\n",
              "      <td>248.0</td>\n",
              "    </tr>\n",
              "    <tr>\n",
              "      <th>9</th>\n",
              "      <td>f1 racing</td>\n",
              "      <td>397.0</td>\n",
              "    </tr>\n",
              "    <tr>\n",
              "      <th>10</th>\n",
              "      <td>golf</td>\n",
              "      <td>2136.5</td>\n",
              "    </tr>\n",
              "    <tr>\n",
              "      <th>11</th>\n",
              "      <td>hockey</td>\n",
              "      <td>17.9</td>\n",
              "    </tr>\n",
              "    <tr>\n",
              "      <th>12</th>\n",
              "      <td>ice hockey</td>\n",
              "      <td>57.8</td>\n",
              "    </tr>\n",
              "    <tr>\n",
              "      <th>13</th>\n",
              "      <td>mma</td>\n",
              "      <td>99.0</td>\n",
              "    </tr>\n",
              "    <tr>\n",
              "      <th>14</th>\n",
              "      <td>motorcycle gp</td>\n",
              "      <td>128.0</td>\n",
              "    </tr>\n",
              "    <tr>\n",
              "      <th>15</th>\n",
              "      <td>nascar</td>\n",
              "      <td>77.2</td>\n",
              "    </tr>\n",
              "    <tr>\n",
              "      <th>16</th>\n",
              "      <td>nba</td>\n",
              "      <td>15.2</td>\n",
              "    </tr>\n",
              "    <tr>\n",
              "      <th>17</th>\n",
              "      <td>nfl</td>\n",
              "      <td>37.5</td>\n",
              "    </tr>\n",
              "    <tr>\n",
              "      <th>18</th>\n",
              "      <td>soccer</td>\n",
              "      <td>2223.5</td>\n",
              "    </tr>\n",
              "    <tr>\n",
              "      <th>19</th>\n",
              "      <td>tennis</td>\n",
              "      <td>1017.3</td>\n",
              "    </tr>\n",
              "  </tbody>\n",
              "</table>\n",
              "</div>\n",
              "      <button class=\"colab-df-convert\" onclick=\"convertToInteractive('df-392bf90f-c371-4826-a844-e377600705f9')\"\n",
              "              title=\"Convert this dataframe to an interactive table.\"\n",
              "              style=\"display:none;\">\n",
              "\n",
              "  <svg xmlns=\"http://www.w3.org/2000/svg\" height=\"24px\"viewBox=\"0 0 24 24\"\n",
              "       width=\"24px\">\n",
              "    <path d=\"M0 0h24v24H0V0z\" fill=\"none\"/>\n",
              "    <path d=\"M18.56 5.44l.94 2.06.94-2.06 2.06-.94-2.06-.94-.94-2.06-.94 2.06-2.06.94zm-11 1L8.5 8.5l.94-2.06 2.06-.94-2.06-.94L8.5 2.5l-.94 2.06-2.06.94zm10 10l.94 2.06.94-2.06 2.06-.94-2.06-.94-.94-2.06-.94 2.06-2.06.94z\"/><path d=\"M17.41 7.96l-1.37-1.37c-.4-.4-.92-.59-1.43-.59-.52 0-1.04.2-1.43.59L10.3 9.45l-7.72 7.72c-.78.78-.78 2.05 0 2.83L4 21.41c.39.39.9.59 1.41.59.51 0 1.02-.2 1.41-.59l7.78-7.78 2.81-2.81c.8-.78.8-2.07 0-2.86zM5.41 20L4 18.59l7.72-7.72 1.47 1.35L5.41 20z\"/>\n",
              "  </svg>\n",
              "      </button>\n",
              "\n",
              "\n",
              "\n",
              "    <div id=\"df-ecddc587-998d-451c-9422-4dbabbb8ad2c\">\n",
              "      <button class=\"colab-df-quickchart\" onclick=\"quickchart('df-ecddc587-998d-451c-9422-4dbabbb8ad2c')\"\n",
              "              title=\"Suggest charts.\"\n",
              "              style=\"display:none;\">\n",
              "\n",
              "<svg xmlns=\"http://www.w3.org/2000/svg\" height=\"24px\"viewBox=\"0 0 24 24\"\n",
              "     width=\"24px\">\n",
              "    <g>\n",
              "        <path d=\"M19 3H5c-1.1 0-2 .9-2 2v14c0 1.1.9 2 2 2h14c1.1 0 2-.9 2-2V5c0-1.1-.9-2-2-2zM9 17H7v-7h2v7zm4 0h-2V7h2v10zm4 0h-2v-4h2v4z\"/>\n",
              "    </g>\n",
              "</svg>\n",
              "      </button>\n",
              "    </div>\n",
              "\n",
              "<style>\n",
              "  .colab-df-quickchart {\n",
              "    background-color: #E8F0FE;\n",
              "    border: none;\n",
              "    border-radius: 50%;\n",
              "    cursor: pointer;\n",
              "    display: none;\n",
              "    fill: #1967D2;\n",
              "    height: 32px;\n",
              "    padding: 0 0 0 0;\n",
              "    width: 32px;\n",
              "  }\n",
              "\n",
              "  .colab-df-quickchart:hover {\n",
              "    background-color: #E2EBFA;\n",
              "    box-shadow: 0px 1px 2px rgba(60, 64, 67, 0.3), 0px 1px 3px 1px rgba(60, 64, 67, 0.15);\n",
              "    fill: #174EA6;\n",
              "  }\n",
              "\n",
              "  [theme=dark] .colab-df-quickchart {\n",
              "    background-color: #3B4455;\n",
              "    fill: #D2E3FC;\n",
              "  }\n",
              "\n",
              "  [theme=dark] .colab-df-quickchart:hover {\n",
              "    background-color: #434B5C;\n",
              "    box-shadow: 0px 1px 3px 1px rgba(0, 0, 0, 0.15);\n",
              "    filter: drop-shadow(0px 1px 2px rgba(0, 0, 0, 0.3));\n",
              "    fill: #FFFFFF;\n",
              "  }\n",
              "</style>\n",
              "\n",
              "    <script>\n",
              "      async function quickchart(key) {\n",
              "        const containerElement = document.querySelector('#' + key);\n",
              "        const charts = await google.colab.kernel.invokeFunction(\n",
              "            'suggestCharts', [key], {});\n",
              "      }\n",
              "    </script>\n",
              "\n",
              "      <script>\n",
              "\n",
              "function displayQuickchartButton(domScope) {\n",
              "  let quickchartButtonEl =\n",
              "    domScope.querySelector('#df-ecddc587-998d-451c-9422-4dbabbb8ad2c button.colab-df-quickchart');\n",
              "  quickchartButtonEl.style.display =\n",
              "    google.colab.kernel.accessAllowed ? 'block' : 'none';\n",
              "}\n",
              "\n",
              "        displayQuickchartButton(document);\n",
              "      </script>\n",
              "      <style>\n",
              "    .colab-df-container {\n",
              "      display:flex;\n",
              "      flex-wrap:wrap;\n",
              "      gap: 12px;\n",
              "    }\n",
              "\n",
              "    .colab-df-convert {\n",
              "      background-color: #E8F0FE;\n",
              "      border: none;\n",
              "      border-radius: 50%;\n",
              "      cursor: pointer;\n",
              "      display: none;\n",
              "      fill: #1967D2;\n",
              "      height: 32px;\n",
              "      padding: 0 0 0 0;\n",
              "      width: 32px;\n",
              "    }\n",
              "\n",
              "    .colab-df-convert:hover {\n",
              "      background-color: #E2EBFA;\n",
              "      box-shadow: 0px 1px 2px rgba(60, 64, 67, 0.3), 0px 1px 3px 1px rgba(60, 64, 67, 0.15);\n",
              "      fill: #174EA6;\n",
              "    }\n",
              "\n",
              "    [theme=dark] .colab-df-convert {\n",
              "      background-color: #3B4455;\n",
              "      fill: #D2E3FC;\n",
              "    }\n",
              "\n",
              "    [theme=dark] .colab-df-convert:hover {\n",
              "      background-color: #434B5C;\n",
              "      box-shadow: 0px 1px 3px 1px rgba(0, 0, 0, 0.15);\n",
              "      filter: drop-shadow(0px 1px 2px rgba(0, 0, 0, 0.3));\n",
              "      fill: #FFFFFF;\n",
              "    }\n",
              "  </style>\n",
              "\n",
              "      <script>\n",
              "        const buttonEl =\n",
              "          document.querySelector('#df-392bf90f-c371-4826-a844-e377600705f9 button.colab-df-convert');\n",
              "        buttonEl.style.display =\n",
              "          google.colab.kernel.accessAllowed ? 'block' : 'none';\n",
              "\n",
              "        async function convertToInteractive(key) {\n",
              "          const element = document.querySelector('#df-392bf90f-c371-4826-a844-e377600705f9');\n",
              "          const dataTable =\n",
              "            await google.colab.kernel.invokeFunction('convertToInteractive',\n",
              "                                                     [key], {});\n",
              "          if (!dataTable) return;\n",
              "\n",
              "          const docLinkHtml = 'Like what you see? Visit the ' +\n",
              "            '<a target=\"_blank\" href=https://colab.research.google.com/notebooks/data_table.ipynb>data table notebook</a>'\n",
              "            + ' to learn more about interactive tables.';\n",
              "          element.innerHTML = '';\n",
              "          dataTable['output_type'] = 'display_data';\n",
              "          await google.colab.output.renderOutput(dataTable, element);\n",
              "          const docLink = document.createElement('div');\n",
              "          docLink.innerHTML = docLinkHtml;\n",
              "          element.appendChild(docLink);\n",
              "        }\n",
              "      </script>\n",
              "    </div>\n",
              "  </div>\n"
            ]
          },
          "metadata": {},
          "execution_count": 19
        }
      ]
    },
    {
      "cell_type": "code",
      "source": [
        "fig = px.treemap(df_porDeporte, path=['Sport'], values='earnings ($ million)',\n",
        "                  color='earnings ($ million)', hover_data=['Sport'],\n",
        "                  color_continuous_scale='RdBu')\n",
        "\n",
        "# Añadir título\n",
        "fig.update_layout(title_text=\"Suma de ingresos, por deporte\")\n",
        "\n",
        "# Añadir leyenda\n",
        "fig.update_layout(legend_title=\"Ingresos\")\n",
        "fig.show()"
      ],
      "metadata": {
        "colab": {
          "base_uri": "https://localhost:8080/",
          "height": 241
        },
        "id": "0jq1H62sFJuy",
        "outputId": "c8b99209-5e50-490f-b4ac-5b38240e8e2e"
      },
      "execution_count": 1,
      "outputs": [
        {
          "output_type": "error",
          "ename": "NameError",
          "evalue": "ignored",
          "traceback": [
            "\u001b[0;31m---------------------------------------------------------------------------\u001b[0m",
            "\u001b[0;31mNameError\u001b[0m                                 Traceback (most recent call last)",
            "\u001b[0;32m<ipython-input-1-3d77df5b7bbe>\u001b[0m in \u001b[0;36m<cell line: 4>\u001b[0;34m()\u001b[0m\n\u001b[1;32m      2\u001b[0m \u001b[0;34m\u001b[0m\u001b[0m\n\u001b[1;32m      3\u001b[0m \u001b[0;34m\u001b[0m\u001b[0m\n\u001b[0;32m----> 4\u001b[0;31m fig = px.treemap(df_porDeporte, path=['Sport'], values='earnings ($ million)',\n\u001b[0m\u001b[1;32m      5\u001b[0m                   \u001b[0mcolor\u001b[0m\u001b[0;34m=\u001b[0m\u001b[0;34m'earnings ($ million)'\u001b[0m\u001b[0;34m,\u001b[0m \u001b[0mhover_data\u001b[0m\u001b[0;34m=\u001b[0m\u001b[0;34m[\u001b[0m\u001b[0;34m'Sport'\u001b[0m\u001b[0;34m]\u001b[0m\u001b[0;34m,\u001b[0m\u001b[0;34m\u001b[0m\u001b[0;34m\u001b[0m\u001b[0m\n\u001b[1;32m      6\u001b[0m                   color_continuous_scale='RdBu')\n",
            "\u001b[0;31mNameError\u001b[0m: name 'df_porDeporte' is not defined"
          ]
        }
      ]
    },
    {
      "cell_type": "markdown",
      "source": [
        "El gráfico presente permite dimensionar cuales son los deportes que mayor cantidad de dinero ha desembolsando en estos deportistas."
      ],
      "metadata": {
        "id": "DatV_RWvGdm6"
      }
    },
    {
      "cell_type": "markdown",
      "source": [
        "##d) Distribucion paga en los deportes"
      ],
      "metadata": {
        "id": "8nkXGdfdHBkQ"
      }
    },
    {
      "cell_type": "code",
      "source": [
        "sports= ['boxing', 'auto racing', 'golf', 'basketball', 'tennis', 'nfl',\n",
        "       'nba', 'baseball', 'ice hockey', 'american football / baseball',\n",
        "       'f1 motorsports', 'nascar', 'hockey', 'auto racing (nascar)',\n",
        "       'f1 racing', 'american football', 'soccer', 'cycling',\n",
        "       'motorcycle gp', 'mma']\n",
        "\n",
        "data =[]\n",
        "for sport in sports:\n",
        "  # Filtrar el DataFrame por el deporte en específico\n",
        "  df_filtrado = df_forbes[df_forbes['Sport'] == sport]\n",
        "\n",
        "  # Obtener la columna 'Costo' como una lista\n",
        "  costos = df_filtrado['earnings ($ million)'].tolist()\n",
        "  data.append(costos)\n",
        "\n",
        "fig = plt.figure(figsize =(10, 5))\n",
        "\n",
        "# Creating axes instance\n",
        "ax = fig.add_axes([0, 0, 1, 1])\n",
        "\n",
        "# Creating plot\n",
        "bp = ax.boxplot(data)\n",
        "\n",
        "# Cambiar las etiquetas del eje X\n",
        "plt.xticks(range(1, len(sports) + 1), sports, rotation='vertical')\n",
        "# show plot\n",
        "plt.show()"
      ],
      "metadata": {
        "colab": {
          "base_uri": "https://localhost:8080/",
          "height": 740
        },
        "id": "gEJg2kCbHBFe",
        "outputId": "e9ea01c9-90e3-411e-9af5-9e7907af69b6"
      },
      "execution_count": 21,
      "outputs": [
        {
          "output_type": "display_data",
          "data": {
            "text/plain": [
              "<Figure size 1000x500 with 1 Axes>"
            ],
            "image/png": "[encoded data removed]"
          },
          "metadata": {}
        }
      ]
    },
    {
      "cell_type": "markdown",
      "source": [
        "Aca se puede notar que hay deportes con altos pagos maximos por año como el boxeo, el cual, sin embargo, tambien alcanza los valores mas bajo en este dataset, lo cual se puede inferir basado en la antiguedad del deporte como espectaculo a diferencia de la mayoria de los otros deportes en el dataset. No pasa lo mismo que en el punto anterior en el mma, donde no varia mucho los mejores pagados, pero el monto siempre es relativamente alto."
      ],
      "metadata": {
        "id": "vB9CnTuXLtPn"
      }
    },
    {
      "cell_type": "markdown",
      "source": [
        "#5. Categorización de variable *earnings*"
      ],
      "metadata": {
        "id": "2122NedshfL-"
      }
    },
    {
      "cell_type": "markdown",
      "source": [
        "Primero, se categorizó la columna solicitada:"
      ],
      "metadata": {
        "id": "SpoEZjwTowLh"
      }
    },
    {
      "cell_type": "code",
      "source": [
        "rango=(300-8.1)/10 #Se separaron segun deciles del rango completo de salarios que han tenido los rankings\n",
        "bins = [8.1, rango+8.1, 2*rango+8.1, 3*rango+8.1, 4*rango+8.1, 5*rango+8.1, 6*rango+8.1, 7*rango+8.1, 8*rango+8.1, 9*rango+8.1, 10*rango+8.1]\n",
        "\n",
        "nombres_categorias = ['1° level', '2° level', '3° level', '4° level', '5° level', '6° level', '7° level', '8° level', '9° level', '10° level']\n",
        "\n",
        "df_forbes['Sallary based levels'] = pd.cut(df_forbes['earnings ($ million)'], bins, labels=nombres_categorias)\n",
        "df_forbes[df_forbes['Sallary based levels']==\"10° level\"]"
      ],
      "metadata": {
        "colab": {
          "base_uri": "https://localhost:8080/",
          "height": 112
        },
        "id": "hsIaFUU8ihy2",
        "outputId": "bd7cf97b-6faa-495b-cc8f-be0fbb690f45"
      },
      "execution_count": 29,
      "outputs": [
        {
          "output_type": "execute_result",
          "data": {
            "text/plain": [
              "     S.NO              Name Nationality  Current Rank Previous Year Rank  \\\n",
              "241   242  Floyd Mayweather         USA             1                  1   \n",
              "271   272  Floyd Mayweather         USA             1               >100   \n",
              "\n",
              "      Sport  Year  earnings ($ million) Sallary based levels  \n",
              "241  boxing  2015                 300.0            10° level  \n",
              "271  boxing  2018                 285.0            10° level  "
            ],
            "text/html": [
              "\n",
              "\n",
              "  <div id=\"df-027a1b4e-51eb-49f7-b00a-31ce1f94c2d0\">\n",
              "    <div class=\"colab-df-container\">\n",
              "      <div>\n",
              "<style scoped>\n",
              "    .dataframe tbody tr th:only-of-type {\n",
              "        vertical-align: middle;\n",
              "    }\n",
              "\n",
              "    .dataframe tbody tr th {\n",
              "        vertical-align: top;\n",
              "    }\n",
              "\n",
              "    .dataframe thead th {\n",
              "        text-align: right;\n",
              "    }\n",
              "</style>\n",
              "<table border=\"1\" class=\"dataframe\">\n",
              "  <thead>\n",
              "    <tr style=\"text-align: right;\">\n",
              "      <th></th>\n",
              "      <th>S.NO</th>\n",
              "      <th>Name</th>\n",
              "      <th>Nationality</th>\n",
              "      <th>Current Rank</th>\n",
              "      <th>Previous Year Rank</th>\n",
              "      <th>Sport</th>\n",
              "      <th>Year</th>\n",
              "      <th>earnings ($ million)</th>\n",
              "      <th>Sallary based levels</th>\n",
              "    </tr>\n",
              "  </thead>\n",
              "  <tbody>\n",
              "    <tr>\n",
              "      <th>241</th>\n",
              "      <td>242</td>\n",
              "      <td>Floyd Mayweather</td>\n",
              "      <td>USA</td>\n",
              "      <td>1</td>\n",
              "      <td>1</td>\n",
              "      <td>boxing</td>\n",
              "      <td>2015</td>\n",
              "      <td>300.0</td>\n",
              "      <td>10° level</td>\n",
              "    </tr>\n",
              "    <tr>\n",
              "      <th>271</th>\n",
              "      <td>272</td>\n",
              "      <td>Floyd Mayweather</td>\n",
              "      <td>USA</td>\n",
              "      <td>1</td>\n",
              "      <td>&gt;100</td>\n",
              "      <td>boxing</td>\n",
              "      <td>2018</td>\n",
              "      <td>285.0</td>\n",
              "      <td>10° level</td>\n",
              "    </tr>\n",
              "  </tbody>\n",
              "</table>\n",
              "</div>\n",
              "      <button class=\"colab-df-convert\" onclick=\"convertToInteractive('df-027a1b4e-51eb-49f7-b00a-31ce1f94c2d0')\"\n",
              "              title=\"Convert this dataframe to an interactive table.\"\n",
              "              style=\"display:none;\">\n",
              "\n",
              "  <svg xmlns=\"http://www.w3.org/2000/svg\" height=\"24px\"viewBox=\"0 0 24 24\"\n",
              "       width=\"24px\">\n",
              "    <path d=\"M0 0h24v24H0V0z\" fill=\"none\"/>\n",
              "    <path d=\"M18.56 5.44l.94 2.06.94-2.06 2.06-.94-2.06-.94-.94-2.06-.94 2.06-2.06.94zm-11 1L8.5 8.5l.94-2.06 2.06-.94-2.06-.94L8.5 2.5l-.94 2.06-2.06.94zm10 10l.94 2.06.94-2.06 2.06-.94-2.06-.94-.94-2.06-.94 2.06-2.06.94z\"/><path d=\"M17.41 7.96l-1.37-1.37c-.4-.4-.92-.59-1.43-.59-.52 0-1.04.2-1.43.59L10.3 9.45l-7.72 7.72c-.78.78-.78 2.05 0 2.83L4 21.41c.39.39.9.59 1.41.59.51 0 1.02-.2 1.41-.59l7.78-7.78 2.81-2.81c.8-.78.8-2.07 0-2.86zM5.41 20L4 18.59l7.72-7.72 1.47 1.35L5.41 20z\"/>\n",
              "  </svg>\n",
              "      </button>\n",
              "\n",
              "\n",
              "\n",
              "    <div id=\"df-88a7ae04-8f3b-47a2-93a3-7611f9aab0a7\">\n",
              "      <button class=\"colab-df-quickchart\" onclick=\"quickchart('df-88a7ae04-8f3b-47a2-93a3-7611f9aab0a7')\"\n",
              "              title=\"Suggest charts.\"\n",
              "              style=\"display:none;\">\n",
              "\n",
              "<svg xmlns=\"http://www.w3.org/2000/svg\" height=\"24px\"viewBox=\"0 0 24 24\"\n",
              "     width=\"24px\">\n",
              "    <g>\n",
              "        <path d=\"M19 3H5c-1.1 0-2 .9-2 2v14c0 1.1.9 2 2 2h14c1.1 0 2-.9 2-2V5c0-1.1-.9-2-2-2zM9 17H7v-7h2v7zm4 0h-2V7h2v10zm4 0h-2v-4h2v4z\"/>\n",
              "    </g>\n",
              "</svg>\n",
              "      </button>\n",
              "    </div>\n",
              "\n",
              "<style>\n",
              "  .colab-df-quickchart {\n",
              "    background-color: #E8F0FE;\n",
              "    border: none;\n",
              "    border-radius: 50%;\n",
              "    cursor: pointer;\n",
              "    display: none;\n",
              "    fill: #1967D2;\n",
              "    height: 32px;\n",
              "    padding: 0 0 0 0;\n",
              "    width: 32px;\n",
              "  }\n",
              "\n",
              "  .colab-df-quickchart:hover {\n",
              "    background-color: #E2EBFA;\n",
              "    box-shadow: 0px 1px 2px rgba(60, 64, 67, 0.3), 0px 1px 3px 1px rgba(60, 64, 67, 0.15);\n",
              "    fill: #174EA6;\n",
              "  }\n",
              "\n",
              "  [theme=dark] .colab-df-quickchart {\n",
              "    background-color: #3B4455;\n",
              "    fill: #D2E3FC;\n",
              "  }\n",
              "\n",
              "  [theme=dark] .colab-df-quickchart:hover {\n",
              "    background-color: #434B5C;\n",
              "    box-shadow: 0px 1px 3px 1px rgba(0, 0, 0, 0.15);\n",
              "    filter: drop-shadow(0px 1px 2px rgba(0, 0, 0, 0.3));\n",
              "    fill: #FFFFFF;\n",
              "  }\n",
              "</style>\n",
              "\n",
              "    <script>\n",
              "      async function quickchart(key) {\n",
              "        const containerElement = document.querySelector('#' + key);\n",
              "        const charts = await google.colab.kernel.invokeFunction(\n",
              "            'suggestCharts', [key], {});\n",
              "      }\n",
              "    </script>\n",
              "\n",
              "      <script>\n",
              "\n",
              "function displayQuickchartButton(domScope) {\n",
              "  let quickchartButtonEl =\n",
              "    domScope.querySelector('#df-88a7ae04-8f3b-47a2-93a3-7611f9aab0a7 button.colab-df-quickchart');\n",
              "  quickchartButtonEl.style.display =\n",
              "    google.colab.kernel.accessAllowed ? 'block' : 'none';\n",
              "}\n",
              "\n",
              "        displayQuickchartButton(document);\n",
              "      </script>\n",
              "      <style>\n",
              "    .colab-df-container {\n",
              "      display:flex;\n",
              "      flex-wrap:wrap;\n",
              "      gap: 12px;\n",
              "    }\n",
              "\n",
              "    .colab-df-convert {\n",
              "      background-color: #E8F0FE;\n",
              "      border: none;\n",
              "      border-radius: 50%;\n",
              "      cursor: pointer;\n",
              "      display: none;\n",
              "      fill: #1967D2;\n",
              "      height: 32px;\n",
              "      padding: 0 0 0 0;\n",
              "      width: 32px;\n",
              "    }\n",
              "\n",
              "    .colab-df-convert:hover {\n",
              "      background-color: #E2EBFA;\n",
              "      box-shadow: 0px 1px 2px rgba(60, 64, 67, 0.3), 0px 1px 3px 1px rgba(60, 64, 67, 0.15);\n",
              "      fill: #174EA6;\n",
              "    }\n",
              "\n",
              "    [theme=dark] .colab-df-convert {\n",
              "      background-color: #3B4455;\n",
              "      fill: #D2E3FC;\n",
              "    }\n",
              "\n",
              "    [theme=dark] .colab-df-convert:hover {\n",
              "      background-color: #434B5C;\n",
              "      box-shadow: 0px 1px 3px 1px rgba(0, 0, 0, 0.15);\n",
              "      filter: drop-shadow(0px 1px 2px rgba(0, 0, 0, 0.3));\n",
              "      fill: #FFFFFF;\n",
              "    }\n",
              "  </style>\n",
              "\n",
              "      <script>\n",
              "        const buttonEl =\n",
              "          document.querySelector('#df-027a1b4e-51eb-49f7-b00a-31ce1f94c2d0 button.colab-df-convert');\n",
              "        buttonEl.style.display =\n",
              "          google.colab.kernel.accessAllowed ? 'block' : 'none';\n",
              "\n",
              "        async function convertToInteractive(key) {\n",
              "          const element = document.querySelector('#df-027a1b4e-51eb-49f7-b00a-31ce1f94c2d0');\n",
              "          const dataTable =\n",
              "            await google.colab.kernel.invokeFunction('convertToInteractive',\n",
              "                                                     [key], {});\n",
              "          if (!dataTable) return;\n",
              "\n",
              "          const docLinkHtml = 'Like what you see? Visit the ' +\n",
              "            '<a target=\"_blank\" href=https://colab.research.google.com/notebooks/data_table.ipynb>data table notebook</a>'\n",
              "            + ' to learn more about interactive tables.';\n",
              "          element.innerHTML = '';\n",
              "          dataTable['output_type'] = 'display_data';\n",
              "          await google.colab.output.renderOutput(dataTable, element);\n",
              "          const docLink = document.createElement('div');\n",
              "          docLink.innerHTML = docLinkHtml;\n",
              "          element.appendChild(docLink);\n",
              "        }\n",
              "      </script>\n",
              "    </div>\n",
              "  </div>\n"
            ]
          },
          "metadata": {},
          "execution_count": 29
        }
      ]
    },
    {
      "cell_type": "code",
      "source": [
        "Luego, se presenta un grafico el cual representa la cantidad de deportistas que pertenecen a cada nivel:"
      ],
      "metadata": {
        "id": "j3WBi_-uouQ2"
      },
      "execution_count": null,
      "outputs": []
    },
    {
      "cell_type": "code",
      "source": [
        "frecuencias = df_forbes['Sallary based levels'].value_counts()\n",
        "\n",
        "plt.figure(figsize=(10, 7.5))\n",
        "# Crear un gráfico de barras de las frecuencias\n",
        "plt.bar(frecuencias.index, frecuencias.values)\n",
        "\n",
        "# Añadir etiquetas a los ejes y título al gráfico\n",
        "plt.xlabel('Nivel')\n",
        "plt.ylabel('Frecuencia')\n",
        "plt.title('Frecuencia de cada nivel')\n",
        "\n",
        "plt.show()"
      ],
      "metadata": {
        "colab": {
          "base_uri": "https://localhost:8080/",
          "height": 680
        },
        "id": "WzDkevGuo6Bg",
        "outputId": "a396f0e4-4801-4c22-bf64-8ac252a6404d"
      },
      "execution_count": 40,
      "outputs": [
        {
          "output_type": "display_data",
          "data": {
            "text/plain": [
              "<Figure size 1000x750 with 1 Axes>"
            ],
            "image/png": "[encoded data removed]"
          },
          "metadata": {}
        }
      ]
    },
    {
      "cell_type": "markdown",
      "source": [
        "Como es de esperar, los niveles mas bajos cuentan con mayor cantidad de deportistas que los niveles superiores, mientras que los niveles 7, 8 y 9 no cuentan con elementos asociados a ellos, comprobado con las siguientes operaciones que lo confirman:"
      ],
      "metadata": {
        "id": "gLdb9jT6sLRF"
      }
    },
    {
      "cell_type": "code",
      "source": [
        "df_forbes[df_forbes['Sallary based levels']=='7° level'].count()"
      ],
      "metadata": {
        "colab": {
          "base_uri": "https://localhost:8080/"
        },
        "id": "bed-04ZYsXPp",
        "outputId": "839b0f13-4c9c-46fe-bf27-29cea1fea472"
      },
      "execution_count": 51,
      "outputs": [
        {
          "output_type": "execute_result",
          "data": {
            "text/plain": [
              "S.NO                    0\n",
              "Name                    0\n",
              "Nationality             0\n",
              "Current Rank            0\n",
              "Previous Year Rank      0\n",
              "Sport                   0\n",
              "Year                    0\n",
              "earnings ($ million)    0\n",
              "Sallary based levels    0\n",
              "dtype: int64"
            ]
          },
          "metadata": {},
          "execution_count": 51
        }
      ]
    },
    {
      "cell_type": "code",
      "source": [
        "df_forbes[df_forbes['Sallary based levels']=='8° level'].count()"
      ],
      "metadata": {
        "colab": {
          "base_uri": "https://localhost:8080/"
        },
        "id": "vTz9dRmytJmT",
        "outputId": "ea09a201-80f4-4aa5-ebf8-d9739599a5b8"
      },
      "execution_count": 50,
      "outputs": [
        {
          "output_type": "execute_result",
          "data": {
            "text/plain": [
              "S.NO                    0\n",
              "Name                    0\n",
              "Nationality             0\n",
              "Current Rank            0\n",
              "Previous Year Rank      0\n",
              "Sport                   0\n",
              "Year                    0\n",
              "earnings ($ million)    0\n",
              "Sallary based levels    0\n",
              "dtype: int64"
            ]
          },
          "metadata": {},
          "execution_count": 50
        }
      ]
    },
    {
      "cell_type": "code",
      "source": [
        "df_forbes[df_forbes['Sallary based levels']=='9° level'].count()"
      ],
      "metadata": {
        "colab": {
          "base_uri": "https://localhost:8080/"
        },
        "id": "hb8sOxJ2tJ8C",
        "outputId": "0512126e-9e9e-4473-ca20-3ae5ffa93564"
      },
      "execution_count": 52,
      "outputs": [
        {
          "output_type": "execute_result",
          "data": {
            "text/plain": [
              "S.NO                    0\n",
              "Name                    0\n",
              "Nationality             0\n",
              "Current Rank            0\n",
              "Previous Year Rank      0\n",
              "Sport                   0\n",
              "Year                    0\n",
              "earnings ($ million)    0\n",
              "Sallary based levels    0\n",
              "dtype: int64"
            ]
          },
          "metadata": {},
          "execution_count": 52
        }
      ]
    },
    {
      "cell_type": "markdown",
      "source": [
        "#6 Preguntas"
      ],
      "metadata": {
        "id": "1CAb9TcYm_gj"
      }
    },
    {
      "cell_type": "markdown",
      "source": [
        "##a) ¿Quién es la persona que más dinero ganó en un año?"
      ],
      "metadata": {
        "id": "PtkCOYclnBmY"
      }
    },
    {
      "cell_type": "markdown",
      "source": [
        "Usando la clasificación hecha en la pregunta 5, se puede ver que el unico atleta en el nivel 10 (el más alto) es **Floyd Mayweather**."
      ],
      "metadata": {
        "id": "CC79XkWfnFxq"
      }
    },
    {
      "cell_type": "markdown",
      "source": [
        "##b) ¿Cuál es el deporte que más se repite dentro de la lista?"
      ],
      "metadata": {
        "id": "9rgvFf7EnTjg"
      }
    },
    {
      "cell_type": "markdown",
      "source": [
        "Basado en el desarrollo 3.c), se extrae que el deporte que mas aparece es el **Basquetball** con una frecuencia absoluta de 0.179402, con lo cual toma el lugar del deporte mas repetido con un $17,94\\%$ de las apariciones."
      ],
      "metadata": {
        "id": "9w8uSL8OnYIz"
      }
    },
    {
      "cell_type": "markdown",
      "source": [
        "##c) ¿Cuál es el deporte donde más dinero se gana?"
      ],
      "metadata": {
        "id": "MfP80QBPnv_M"
      }
    },
    {
      "cell_type": "markdown",
      "source": [
        "La respuesta que se puede entregar es en base al ranking entregado, el cual solo contiene los deportistas mejor pagados de cada año, no con los sueldos de todos los deportistas, por lo que con base en el desarrollo 4.c), se concluye que es el **basketball** con **USD$\\$3418.1$ millones**."
      ],
      "metadata": {
        "id": "eA2nkTuJn0xA"
      }
    }
  ]
}